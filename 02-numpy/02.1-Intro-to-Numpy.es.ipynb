{
 "cells": [
  {
   "attachments": {},
   "cell_type": "markdown",
   "id": "bdfbcacc",
   "metadata": {},
   "source": [
    "![Logo de NumPy](https://github.com/4GeeksAcademy/machine-learning-prework/blob/main/02-numpy/assets/numpy_logo.png?raw=true)\n",
    "\n",
    "## Introducción a NumPy\n",
    "\n",
    "`NumPy` es un juego de palabras que significa **Python numérico** (*Numerical Python*). Es una librería de código abierto que se utiliza para llevar a cabo tareas matemáticas con altísima eficiencia. Además, introduce estructuras de datos como los arrays multidimensionales, que se pueden operar entre ellos a alto nivel, sin meterse mucho en el detalle.\n",
    "\n",
    "En concreto, las claves de esta librería son:\n",
    "\n",
    "- **Array multidimensionales**: Esta librería proporciona un objeto llamado `ndarray`, que permite almacenar y manipular grandes conjuntos de datos de forma eficiente. Los arrays pueden tener cualquier número de dimensiones.\n",
    "- **Operaciones Vectorizadas**: NumPy permite realizar operaciones matemáticas en arrays completos sin la necesidad de bucles explícitos en el código, lo que lo hace muy rápido y eficiente.\n",
    "- **Funciones matemáticas**: NumPy proporciona una amplia gama de funciones matemáticas para trabajar con arrays, incluyendo funciones trigonométricas, estadísticas, álgebra lineal, entre otras.\n",
    "- **Eficiencia**: Es mucho más rápido que la misma funcionalidad implementada directamente sobre Python nativo. Además, es muy flexible en términos de acceso y manipulación de elementos individuales o subconjuntos de arrays.\n",
    "\n",
    "NumPy es una biblioteca fundamental para el Machine Learning y la ciencia de los datos en Python. Proporciona una amplia gama de herramientas y funciones para trabajar eficientemente con datos numéricos en forma de arrays y matrices."
   ]
  },
  {
   "cell_type": "markdown",
   "id": "dc410026",
   "metadata": {},
   "source": [
    "### Arrays\n",
    "\n",
    "Un **array** de NumPy es una estructura de datos que permite almacenar una colección de elementos, generalmente números, en una o más dimensiones.\n",
    "\n",
    "#### Array unidimensional\n",
    "\n",
    "Un array unidimensional (1D) de NumPy es una estructura de datos que contiene una secuencia de elementos en una única dimensión. Es similar a una lista en Python, pero con las ventajas de rendimiento y funcionalidad que ofrece NumPy.\n",
    "\n",
    "![Array de una dimensión](https://github.com/4GeeksAcademy/machine-learning-prework/blob/main/02-numpy/assets/1D.png?raw=true \"1D\")\n",
    "\n",
    "Un array 1D puede ser creado usando la función `array` de la librería con una lista de elementos como argumento. Por ejemplo:"
   ]
  },
  {
   "cell_type": "code",
   "execution_count": 1,
   "id": "d8a0686b",
   "metadata": {},
   "outputs": [
    {
     "data": {
      "text/plain": [
       "array([1, 2, 3, 4, 5])"
      ]
     },
     "execution_count": 1,
     "metadata": {},
     "output_type": "execute_result"
    }
   ],
   "source": [
    "import numpy as np\n",
    "\n",
    "array = np.array([1, 2, 3, 4, 5])\n",
    "array"
   ]
  },
  {
   "cell_type": "markdown",
   "id": "e090f7a0",
   "metadata": {},
   "source": [
    "Esto creará un array 1D con los elementos 1, 2, 3, 4 y 5. Los elementos del array deben ser del mismo tipo de datos. Si los elementos son de diferentes tipos, NumPy intentará convertirlos al mismo tipo si es posible.\n",
    "\n",
    "En un array 1D, podemos acceder a los elementos usando **índices** (*indexes*), modificarlos y realizar operaciones matemáticas en el array completo de forma eficiente. A continuación se muestran algunas operaciones que se pueden realizar utilizando el array anterior:"
   ]
  },
  {
   "cell_type": "code",
   "execution_count": 2,
   "id": "a56cb1b0",
   "metadata": {},
   "outputs": [
    {
     "name": "stdout",
     "output_type": "stream",
     "text": [
      "3\n",
      "[1 7 3 4 5]\n",
      "[11 17 13 14 15]\n",
      "70\n"
     ]
    }
   ],
   "source": [
    "# Acceder al tercer elemento\n",
    "print(array[2])\n",
    "\n",
    "# Cambiar el valor del segundo elemento\n",
    "array[1] = 7\n",
    "print(array)\n",
    "\n",
    "# Sumar 10 a todos los elementos\n",
    "array += 10\n",
    "print(array)\n",
    "\n",
    "# Calcular la suma de los elementos\n",
    "sum_all = np.sum(array)\n",
    "print(sum_all)"
   ]
  },
  {
   "cell_type": "markdown",
   "id": "322771b1",
   "metadata": {},
   "source": [
    "#### Array N-dimensional\n",
    "\n",
    "Un array multidimensional o n-dimensional en NumPy es una estructura de datos que organiza elementos en múltiples dimensiones (ejes). Estos arrays permiten representar estructuras de datos más complejas, como matrices (array 2D, 2 ejes), tensores (array 3D, 3 ejes) y estructuras de mayor dimensión.\n",
    "\n",
    "![Arrays de diferentes dimensiones](https://github.com/4GeeksAcademy/machine-learning-prework/blob/main/02-numpy/assets/3D.png?raw=true \"3D\")\n",
    "\n",
    "Un array N-dimensional puede ser creado también usando la función `array` de la librería. Por ejemplo, si queremos crear un array 2D:"
   ]
  },
  {
   "cell_type": "code",
   "execution_count": 3,
   "id": "2033ba3c",
   "metadata": {},
   "outputs": [
    {
     "data": {
      "text/plain": [
       "array([[1, 2, 3],\n",
       "       [4, 5, 6],\n",
       "       [7, 8, 9]])"
      ]
     },
     "execution_count": 3,
     "metadata": {},
     "output_type": "execute_result"
    }
   ],
   "source": [
    "array_2d = np.array([[1, 2, 3], [4, 5, 6], [7, 8, 9]])\n",
    "array_2d"
   ]
  },
  {
   "cell_type": "markdown",
   "id": "d3dac6c2",
   "metadata": {},
   "source": [
    "Si ahora quisiéramos crear un array 3D, tendríamos que pensar en él como una lista de matrices:"
   ]
  },
  {
   "cell_type": "code",
   "execution_count": 4,
   "id": "bc914841",
   "metadata": {},
   "outputs": [
    {
     "data": {
      "text/plain": [
       "array([[[1, 2],\n",
       "        [3, 4]],\n",
       "\n",
       "       [[5, 6],\n",
       "        [7, 8]]])"
      ]
     },
     "execution_count": 4,
     "metadata": {},
     "output_type": "execute_result"
    }
   ],
   "source": [
    "array_3d = np.array([[[1, 2], [3, 4]], [[5, 6], [7, 8]]])\n",
    "array_3d"
   ]
  },
  {
   "cell_type": "markdown",
   "id": "da7bcb64",
   "metadata": {},
   "source": [
    "Al igual que sucedía con los arrays 1D, los elementos en un array multidimensional son accesibles mediante índices, se pueden realizar operaciones con ellos, etcétera.\n",
    "\n",
    "A medida que agregamos más dimensiones, el principio básico sigue siendo el mismo: cada dimensión adicional puede considerarse como un nivel adicional de anidamiento. Sin embargo, a nivel práctico, trabajar con arrays de más de 3 o 4 dimensiones puede volverse más complejo y menos intuitivo.\n",
    "\n",
    "Los arrays n-dimensionales en NumPy permiten una gran flexibilidad y potencia para representar y manipular datos en formas más complejas, especialmente útiles en campos como la ciencia de los datos, procesamiento de imágenes y aprendizaje profundo."
   ]
  },
  {
   "cell_type": "markdown",
   "id": "d699ac98",
   "metadata": {},
   "source": [
    "### Funciones\n",
    "\n",
    "NumPy proporciona una gran cantidad de funciones predefinidas y que se pueden aplicar directamente sobre las estructuras de datos vistas anteriormente o las propias de Python (listas, matrices, etcétera). Algunas de las más utilizadas en el análisis de datos son:"
   ]
  },
  {
   "cell_type": "code",
   "execution_count": 5,
   "id": "e7680306",
   "metadata": {},
   "outputs": [
    {
     "name": "stdout",
     "output_type": "stream",
     "text": [
      "Suma: [ 6  7  8  9 10]\n",
      "Producto: [ 3  6  9 12 15]\n",
      "Logaritmo natural: [0.         0.69314718 1.09861229 1.38629436 1.60943791]\n",
      "Exponencial: [  2.71828183   7.3890561   20.08553692  54.59815003 148.4131591 ]\n",
      "Media: 3.0\n",
      "Mediana: 3.0\n",
      "Desviación estándar: 1.4142135623730951\n",
      "Varianza: 2.0\n",
      "Máximo valor: 5\n",
      "Índice del máximo valor: 4\n",
      "Mínimo valor: 1\n",
      "Índice del mínimo valor: 0\n",
      "Suma de todos los elementos: 15\n",
      "Redondeo: [1. 2. 4. 5.]\n",
      "Entero menor (floor): [1. 2. 3. 4.]\n",
      "Entero mayor (ceil): [2. 3. 4. 5.]\n"
     ]
    }
   ],
   "source": [
    "import numpy as np\n",
    "\n",
    "# Crear un array para el ejemplo\n",
    "arr = np.array([1, 2, 3, 4, 5])\n",
    "\n",
    "# Operaciones Aritméticas\n",
    "print(\"Suma:\", np.add(arr, 5))\n",
    "print(\"Producto:\", np.multiply(arr, 3))\n",
    "\n",
    "# Logarítmicas y Exponenciales\n",
    "print(\"Logaritmo natural:\", np.log(arr))\n",
    "print(\"Exponencial:\", np.exp(arr))\n",
    "\n",
    "# Funciones Estadísticas\n",
    "print(\"Media:\", np.mean(arr))\n",
    "print(\"Mediana:\", np.median(arr))\n",
    "print(\"Desviación estándar:\", np.std(arr))\n",
    "print(\"Varianza:\", np.var(arr))\n",
    "print(\"Máximo valor:\", np.max(arr))\n",
    "print(\"Índice del máximo valor:\", np.argmax(arr))\n",
    "print(\"Mínimo valor:\", np.min(arr))\n",
    "print(\"Índice del mínimo valor:\", np.argmin(arr))\n",
    "print(\"Suma de todos los elementos:\", np.sum(arr))\n",
    "\n",
    "# Funciones de Redondeo\n",
    "arr_decimal = np.array([1.23, 2.47, 3.56, 4.89])\n",
    "print(\"Redondeo:\", np.around(arr_decimal))\n",
    "print(\"Entero menor (floor):\", np.floor(arr_decimal))\n",
    "print(\"Entero mayor (ceil):\", np.ceil(arr_decimal))"
   ]
  },
  {
   "cell_type": "markdown",
   "id": "51b5cda3",
   "metadata": {},
   "source": [
    "## Ejercicios: Haz clic en \"open in colab\" para realizarlos\n",
    "\n",
    "> Solución: https://github.com/4GeeksAcademy/machine-learning-prework/blob/main/02-numpy/02.1-Intro-to-Numpy_solutions.ipynb\n",
    "\n",
    "### Creación de arrays"
   ]
  },
  {
   "cell_type": "markdown",
   "id": "e3c20b3d",
   "metadata": {},
   "source": [
    "#### Ejercicio 01:  Crea un **vector nulo** (*null vector*) que tenga 10 elementos (★☆☆)\n",
    "\n",
    "Un vector nulo es un array de una dimensión compuesto por ceros (`0`).\n",
    "\n",
    "> NOTA: Revisa la función `np.zeros` (https://numpy.org/doc/stable/reference/generated/numpy.zeros.html)"
   ]
  },
  {
   "cell_type": "code",
   "execution_count": 6,
   "id": "8a758bcf",
   "metadata": {},
   "outputs": [
    {
     "data": {
      "text/plain": [
       "array([0, 0, 0, 0, 0, 0, 0, 0, 0, 0])"
      ]
     },
     "execution_count": 6,
     "metadata": {},
     "output_type": "execute_result"
    }
   ],
   "source": [
    "import numpy as np\n",
    "diezceros = np.zeros(10, dtype=int)\n",
    "diezceros"
   ]
  },
  {
   "cell_type": "markdown",
   "id": "6cbe7954",
   "metadata": {},
   "source": [
    "#### Ejercicio 02: Crea un vector de unos que tenga 10 elementos (★☆☆)\n",
    "\n",
    "> NOTA: Revisa la función `np.ones` (https://numpy.org/doc/stable/reference/generated/numpy.ones.html)"
   ]
  },
  {
   "cell_type": "code",
   "execution_count": 7,
   "id": "86477874",
   "metadata": {},
   "outputs": [
    {
     "data": {
      "text/plain": [
       "array([1, 1, 1, 1, 1, 1, 1, 1, 1, 1])"
      ]
     },
     "execution_count": 7,
     "metadata": {},
     "output_type": "execute_result"
    }
   ],
   "source": [
    "import numpy as np\n",
    "diezunos= np.ones(10, dtype=int)\n",
    "diezunos"
   ]
  },
  {
   "cell_type": "markdown",
   "id": "0a708990",
   "metadata": {},
   "source": [
    "#### Ejercicio 03: Investiga la función `linspace` de NumPy y crea un array que contenga 10 elementos (★☆☆)\n",
    "\n",
    "> NOTA: Revisa la función `np.linspace` (https://numpy.org/doc/stable/reference/generated/numpy.linspace.html)"
   ]
  },
  {
   "cell_type": "code",
   "execution_count": 8,
   "id": "477e01f4",
   "metadata": {},
   "outputs": [
    {
     "data": {
      "text/plain": [
       "array([0, 1, 2, 3, 4, 5, 6, 7, 8, 9])"
      ]
     },
     "execution_count": 8,
     "metadata": {},
     "output_type": "execute_result"
    }
   ],
   "source": [
    "import numpy as np\n",
    "vector10 = np.linspace(0, 9, num=10, endpoint=True, retstep=False, dtype=int, axis=0)\n",
    "vector10"
   ]
  },
  {
   "cell_type": "markdown",
   "id": "9794fe71",
   "metadata": {},
   "source": [
    "#### Ejercicio 04: Busca varias formas de generar un array con números aleatorios y crea un array 1D y dos arrays 2D (★★☆)\n",
    "\n",
    "> NOTA: Revisa las funciones `np.random.rand` (https://numpy.org/doc/stable/reference/random/generated/numpy.random.rand.html), `np.random.randint` (https://numpy.org/doc/stable/reference/random/generated/numpy.random.randint.html) y `np.random.randn` (https://numpy.org/doc/stable/reference/random/generated/numpy.random.randn.html)"
   ]
  },
  {
   "cell_type": "code",
   "execution_count": 9,
   "id": "3d9a48a7",
   "metadata": {},
   "outputs": [],
   "source": [
    "import numpy as np\n",
    "import random\n",
    "random.seed(42)\n",
    "rng1x10= np.array(np.random.randint(100,size=(10)), dtype=int)\n",
    "rng1x10\n",
    "rng2x10A = np.array(np.random.randint(-100,100, size=(2,10)))\n",
    "rng2x10B = np.random.randint(101, 201, size=(2, 10))"
   ]
  },
  {
   "cell_type": "markdown",
   "id": "78a37e5c",
   "metadata": {},
   "source": [
    "#### Ejercicio 05: Crea una matriz (array 2D) identidad de 5x5 (★☆☆)\n",
    "\n",
    "\n",
    "> NOTA: Revisa la función `np.eye`(https://numpy.org/devdocs/reference/generated/numpy.eye.html)"
   ]
  },
  {
   "cell_type": "code",
   "execution_count": 10,
   "id": "a6751106",
   "metadata": {},
   "outputs": [
    {
     "data": {
      "text/plain": [
       "array([[1, 0, 0, 0, 0],\n",
       "       [0, 1, 0, 0, 0],\n",
       "       [0, 0, 1, 0, 0],\n",
       "       [0, 0, 0, 1, 0],\n",
       "       [0, 0, 0, 0, 1]])"
      ]
     },
     "execution_count": 10,
     "metadata": {},
     "output_type": "execute_result"
    }
   ],
   "source": [
    "import numpy as np, random\n",
    "random.seed(42)\n",
    "arr5x5= np.eye(5, k=0, dtype=int)\n",
    "arr5x5"
   ]
  },
  {
   "cell_type": "markdown",
   "id": "08bb63e6",
   "metadata": {},
   "source": [
    "#### Ejercicio 06: Crea una matriz con números aleatorios de 3x2 y calcula el valor mínimo y máximo (★☆☆)\n",
    "\n",
    "> NOTA: Revisa la función `np.min` (https://numpy.org/devdocs/reference/generated/numpy.min.html) y `np.max` (https://numpy.org/devdocs/reference/generated/numpy.max.html)"
   ]
  },
  {
   "cell_type": "code",
   "execution_count": 11,
   "id": "3214cca1",
   "metadata": {},
   "outputs": [
    {
     "name": "stdout",
     "output_type": "stream",
     "text": [
      "[[ 35 -28]\n",
      " [-50 -34]\n",
      " [ 90  -1]]\n",
      "Min -50 \n",
      " Max 90 \n",
      "\n",
      "Minv2 -50 \n",
      " Maxv2 90 \n",
      "\n"
     ]
    }
   ],
   "source": [
    "arr3x2 = np.random.randint(-100,100, size=(3,2))\n",
    "print(arr3x2)\n",
    "minvalue = np.min(arr3x2)\n",
    "maxvalue = np.max(arr3x2)\n",
    "minvaluev2 = arr3x2.min()\n",
    "maxvaluev2 = arr3x2.max()\n",
    "print('Min', minvalue, '\\n', 'Max', maxvalue, '\\n')\n",
    "print('Minv2', minvaluev2, '\\n', 'Maxv2', maxvaluev2, '\\n')\n",
    "\n"
   ]
  },
  {
   "cell_type": "markdown",
   "id": "57c6c275",
   "metadata": {},
   "source": [
    "#### Ejercicio 07: Crea un vector con números aleatorios de 30 elementos y calcula la media (★☆☆)\n",
    "\n",
    "> NOTA: Revisa la función `np.mean` (https://numpy.org/doc/stable/reference/generated/numpy.mean.html)"
   ]
  },
  {
   "cell_type": "code",
   "execution_count": 12,
   "id": "cc960ba5",
   "metadata": {},
   "outputs": [
    {
     "data": {
      "text/plain": [
       "array([[-68.27295462,  87.09911378,  58.74105695, -84.41271395,\n",
       "        -12.39768039,  50.97049687,  59.00359572, -87.7049059 ,\n",
       "        -56.33822269, -99.84201368,  39.85578985, -61.95594   ,\n",
       "         97.88635218,  -8.86740561,  86.17547618,  -0.41054231,\n",
       "        -35.60680296, -69.2247191 ,  -1.89520882,   0.43065883,\n",
       "         88.05828462,  21.66829708, -54.31952408, -67.34125055,\n",
       "         -7.32712262, -50.23858654,  27.82676777, -72.60268786,\n",
       "         40.20766531,   6.17467651]])"
      ]
     },
     "execution_count": 12,
     "metadata": {},
     "output_type": "execute_result"
    }
   ],
   "source": [
    "import numpy as np\n",
    "import random\n",
    "random.seed(42)\n",
    "vector30 = np.random.uniform(-100, 100, size=(1, 30))\n",
    "vector30"
   ]
  },
  {
   "cell_type": "markdown",
   "id": "2c801667",
   "metadata": {},
   "source": [
    "#### Ejercicio 08: Convierte la lista `[1, 2, 3]` y la tupla `(1, 2, 3)` en arrays (★☆☆)"
   ]
  },
  {
   "cell_type": "code",
   "execution_count": 13,
   "id": "3f36c71c",
   "metadata": {},
   "outputs": [
    {
     "name": "stdout",
     "output_type": "stream",
     "text": [
      "Lista: [1, 2, 3] \n",
      " Tupla: (1, 2, 3)\n",
      "ArrayList: [1 2 3] \n",
      " ArrayTuple: (1, 2, 3) \n",
      "\n"
     ]
    }
   ],
   "source": [
    "list123 = [1,2,3]\n",
    "tuple123 = (1,2,3)\n",
    "print('Lista:',list123,'\\n','Tupla:',tuple123)\n",
    "arrlist = np.array(list123)\n",
    "arrtuple = np.array(tuple123)\n",
    "print('ArrayList:',arrlist,\"\\n\",\"ArrayTuple:\",tuple123,'\\n')\n"
   ]
  },
  {
   "cell_type": "markdown",
   "id": "962bb9fc",
   "metadata": {},
   "source": [
    "### Operaciones entre arrays"
   ]
  },
  {
   "cell_type": "markdown",
   "id": "48d48f01",
   "metadata": {},
   "source": [
    "#### Ejercicio 09: Invierte el vector del ejercicio anterior (★☆☆)\n",
    "\n",
    "> NOTA: Revisa la función `np.flip` (https://numpy.org/doc/stable/reference/generated/numpy.flip.html)"
   ]
  },
  {
   "cell_type": "code",
   "execution_count": 14,
   "id": "d3e13052",
   "metadata": {},
   "outputs": [
    {
     "name": "stdout",
     "output_type": "stream",
     "text": [
      "(array([3, 2, 1]),) \n",
      " (array([3, 2, 1]),)\n"
     ]
    }
   ],
   "source": [
    "import numpy as np, random\n",
    "\n",
    "ArrInvList = np.flip(arrlist),\n",
    "ArrInvTuple = np.flip(arrtuple),\n",
    "print(ArrInvList,'\\n',ArrInvTuple)"
   ]
  },
  {
   "cell_type": "markdown",
   "id": "233addce",
   "metadata": {},
   "source": [
    "#### Ejercicio 10: Cambia el tamaño de un array aleatorio de dimensiones 5x12 en 12x5 (★☆☆)\n",
    "\n",
    "> NOTA: Revisa la función `np.reshape` (https://numpy.org/doc/stable/reference/generated/numpy.reshape.html)"
   ]
  },
  {
   "cell_type": "code",
   "execution_count": 15,
   "id": "bfaed09f",
   "metadata": {},
   "outputs": [
    {
     "name": "stdout",
     "output_type": "stream",
     "text": [
      "Matriz5x12: [[  4.24853123  34.32794038 -75.74481643 -46.77500416 -16.786262\n",
      "   16.73508839   4.15448722 -61.52373638  24.78164934 -60.77576832\n",
      "   82.53950749 -35.98981253]\n",
      " [-98.53147461 -80.16526086 -44.47654956   3.44656353  23.36817033\n",
      "   -3.36475867 -82.92232094  -8.38088798  25.3329711  -95.21472204\n",
      "   78.52214758  88.16184712]\n",
      " [ 63.70002948 -44.95070112   4.28400743 -52.73722414  20.40474928\n",
      "   28.06444518 -27.38285514 -58.92028285 -99.0721412   -1.37353202\n",
      "   35.91233572  56.32941367]\n",
      " [ 49.1071575  -84.28728102 -19.26595435   9.03243676 -89.34036769\n",
      "   92.47246091 -65.04871468 -49.77152323 -81.84348249  98.40515319\n",
      "   -0.14269419  52.92655853]\n",
      " [-73.29242595 -78.19658294 -11.64151843  28.34221275 -38.50104238\n",
      "   74.7714484    4.31291031 -26.54698793 -44.82047322  92.15682257\n",
      "    3.035697   -22.93802416]] \n",
      " Matriz12x5: [[  4.24853123  34.32794038 -75.74481643 -46.77500416 -16.786262  ]\n",
      " [ 16.73508839   4.15448722 -61.52373638  24.78164934 -60.77576832]\n",
      " [ 82.53950749 -35.98981253 -98.53147461 -80.16526086 -44.47654956]\n",
      " [  3.44656353  23.36817033  -3.36475867 -82.92232094  -8.38088798]\n",
      " [ 25.3329711  -95.21472204  78.52214758  88.16184712  63.70002948]\n",
      " [-44.95070112   4.28400743 -52.73722414  20.40474928  28.06444518]\n",
      " [-27.38285514 -58.92028285 -99.0721412   -1.37353202  35.91233572]\n",
      " [ 56.32941367  49.1071575  -84.28728102 -19.26595435   9.03243676]\n",
      " [-89.34036769  92.47246091 -65.04871468 -49.77152323 -81.84348249]\n",
      " [ 98.40515319  -0.14269419  52.92655853 -73.29242595 -78.19658294]\n",
      " [-11.64151843  28.34221275 -38.50104238  74.7714484    4.31291031]\n",
      " [-26.54698793 -44.82047322  92.15682257   3.035697   -22.93802416]] \n",
      "\n"
     ]
    }
   ],
   "source": [
    "import numpy as np\n",
    "import random\n",
    "random.seed(42)\n",
    "Matriz5x12 = np.random.uniform(-100, 100, size=(5, 12))\n",
    "Matriz12x5 = np.reshape(Matriz5x12, (12,5))\n",
    "print(\"Matriz5x12:\",Matriz5x12,\"\\n\",\"Matriz12x5:\",Matriz12x5,\"\\n\")"
   ]
  },
  {
   "cell_type": "markdown",
   "id": "645e5381",
   "metadata": {},
   "source": [
    "#### Ejercicio 11: Convierte la lista `[1, 2, 0, 0, 4, 0]` en un array y obtén el índice de los elementos que no son cero (★★☆)\n",
    "\n",
    "> NOTA: Revisa la función `np.where` (https://numpy.org/devdocs/reference/generated/numpy.where.html)"
   ]
  },
  {
   "cell_type": "code",
   "execution_count": 16,
   "id": "b2652fee",
   "metadata": {},
   "outputs": [
    {
     "data": {
      "text/plain": [
       "(array([0, 1, 4]),)"
      ]
     },
     "execution_count": 16,
     "metadata": {},
     "output_type": "execute_result"
    }
   ],
   "source": [
    "import numpy as np\n",
    "import random\n",
    "random.seed(42)\n",
    "list1=[1,2,0,0,4,0]\n",
    "listarr1= np.array(list1)\n",
    "listsin0 = np.where(listarr1!=0)\n",
    "listsin0"
   ]
  },
  {
   "cell_type": "markdown",
   "id": "e7948dbb",
   "metadata": {},
   "source": [
    "#### Ejercicio 12: Convierte la lista `[0, 5, -1, 3, 15]` en un array, multiplica sus valores por `-2` y obtén los elementos pares (★★☆)\n",
    "list12 = [0,5,-1,3,15]\n",
    "array12 = np.array(list12)\n",
    "for array12 i in range (5)\n",
    "    array12.index(i).value(*2)\n",
    "    return np.where(array12.value)"
   ]
  },
  {
   "cell_type": "code",
   "execution_count": 17,
   "metadata": {},
   "outputs": [
    {
     "name": "stdout",
     "output_type": "stream",
     "text": [
      "El elemento en el índice 0 es par: 0\n",
      "El elemento en el índice 1 es par: -10\n",
      "El elemento en el índice 2 es par: 2\n",
      "El elemento en el índice 3 es par: -6\n",
      "El elemento en el índice 4 es par: -30\n",
      "\n",
      "El elemento en el índice 1 es par: -10\n",
      "El elemento en el índice 2 es par: 2\n",
      "El elemento en el índice 3 es par: -6\n",
      "El elemento en el índice 4 es par: -30\n"
     ]
    }
   ],
   "source": [
    "import numpy as np\n",
    "\n",
    "list12 = [0, 5, -1, 3, 15]\n",
    "array12 = np.array(list12)\n",
    "array12 *= -2\n",
    "for i in range(len(array12)):\n",
    "    if array12[i] % 2 == 0:\n",
    "        print(f\"El elemento en el índice {i} es par: {array12[i]}\")"
   ]
  },
  {
   "cell_type": "markdown",
   "id": "a90d6f3e",
   "metadata": {},
   "source": [
    "#### Ejercicio 13: Crea un vector aleatorio de 10 elementos y ordénalo de menor a mayor (★★☆)\n",
    "\n",
    "> NOTA: Revisa la función `np.sort` (https://numpy.org/doc/stable/reference/generated/numpy.sort.html)"
   ]
  },
  {
   "cell_type": "code",
   "execution_count": 22,
   "id": "bc373a83",
   "metadata": {},
   "outputs": [
    {
     "name": "stdout",
     "output_type": "stream",
     "text": [
      "SinOrden: [[ 56.15718149 -56.16362462 -38.32743542  29.25979067   8.12953839\n",
      "   78.15159525  57.46227699  70.21005171 -30.96005539 -76.71192987]] \n",
      " Ordenado: [[-76.71192987 -56.16362462 -38.32743542 -30.96005539   8.12953839\n",
      "   29.25979067  56.15718149  57.46227699  70.21005171  78.15159525]] \n",
      "\n"
     ]
    }
   ],
   "source": [
    "import numpy as np, random\n",
    "random.seed(42)\n",
    "\n",
    "array13 = np.array(np.random.uniform(-100, 100, size=(1,10)))\n",
    "sorted13 = np.sort(array13)\n",
    "print(\"SinOrden:\",array13,\"\\n\",\"Ordenado:\",sorted13,\"\\n\")"
   ]
  },
  {
   "cell_type": "markdown",
   "id": "5e9b6115",
   "metadata": {},
   "source": [
    "#### Ejercicio 14: Genera dos vectores aleatorios de 8 elementos y aplica las operaciones de suma, resta y multiplicación entre ellos (★★☆)\n",
    "\n",
    "> NOTA: Revisa las funciones matemáticas: https://numpy.org/doc/stable/reference/routines.math.html"
   ]
  },
  {
   "cell_type": "code",
   "execution_count": 28,
   "id": "cc77e421",
   "metadata": {},
   "outputs": [
    {
     "name": "stdout",
     "output_type": "stream",
     "text": [
      "SinOrden: [[ 83  -7  81  -6 -23  47  61  56 -29  50]] \n",
      " Ordenado: [[-29 -23  -7  -6  47  50  56  61  81  83]] \n",
      "\n"
     ]
    }
   ],
   "source": [
    "import numpy as np, random\n",
    "random.seed(42)\n",
    "\n",
    "array13 = np.array(np.random.randint(-100, 100, size=(1,10)))\n",
    "sorted13 = np.sort(array13)\n",
    "print(\"SinOrden:\",array13,\"\\n\",\"Ordenado:\",sorted13,\"\\n\")"
   ]
  },
  {
   "cell_type": "markdown",
   "id": "c8e8daa0",
   "metadata": {},
   "source": [
    "#### Ejercicio 15: Convierte la lista `[1, 2, 3, 4, 5, 6, 7, 8, 9, 10, 11, 12]` en un array y transfórmalo en una matriz con filas de 3 columnas (★★★)"
   ]
  },
  {
   "cell_type": "code",
   "execution_count": 30,
   "metadata": {},
   "outputs": [
    {
     "data": {
      "text/plain": [
       "array([[ 1,  2,  3],\n",
       "       [ 4,  5,  6],\n",
       "       [ 7,  8,  9],\n",
       "       [10, 11, 12]])"
      ]
     },
     "execution_count": 30,
     "metadata": {},
     "output_type": "execute_result"
    }
   ],
   "source": [
    "lista15=[1,2,3,4,5,6,7,8,9,10,11,12]\n",
    "array15= np.array(lista15)\n",
    "array4x315 = np.reshape(array15, shape=(4,3))\n",
    "array4x315"
   ]
  }
 ],
 "metadata": {
  "kernelspec": {
   "display_name": "Python 3",
   "language": "python",
   "name": "python3"
  },
  "language_info": {
   "codemirror_mode": {
    "name": "ipython",
    "version": 3
   },
   "file_extension": ".py",
   "mimetype": "text/x-python",
   "name": "python",
   "nbconvert_exporter": "python",
   "pygments_lexer": "ipython3",
   "version": "3.12.1"
  }
 },
 "nbformat": 4,
 "nbformat_minor": 5
}
