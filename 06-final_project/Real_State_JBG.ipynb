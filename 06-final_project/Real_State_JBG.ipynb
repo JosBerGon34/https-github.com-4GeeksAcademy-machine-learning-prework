{
  "cells": [
    {
      "attachments": {},
      "cell_type": "markdown",
      "id": "innocent-university",
      "metadata": {},
      "source": [
        "# Limpieza de bienes raíces\n",
        "\n",
        "Este es un conjunto de datos (dataset) reales que fue descargado usando técnicas de web scraping. La data contiene registros de **Fotocasa**, el cual es uno de los sitios más populares de bienes raíces en España. Por favor no hagas esto (web scraping) a no ser que sea para propósitos académicos.\n",
        "\n",
        "El dataset fue descargado hace algunos años por Henry Navarro y en ningún caso se obtuvo beneficio económico de ello.\n",
        "\n",
        "Contiene miles de datos de casas reales publicadas en la web www.fotocasa.com. Tu objetivo es extraer tanta información como sea posible con el conocimiento que tienes hasta ahora de ciencia de datos, por ejemplo ¿cuál es la casa más cara en todo el dataset?\n",
        "\n",
        "Empecemos precisamente con esa pregunta... ¡Buena suerte!"
      ]
    },
    {
      "attachments": {},
      "cell_type": "markdown",
      "id": "multiple-glass",
      "metadata": {},
      "source": [
        "#### Ejercicio 00. Lee el dataset assets/real_estate.csv e intenta visualizar la tabla (★☆☆)"
      ]
    },
    {
      "cell_type": "code",
      "execution_count": 1,
      "id": "frank-heath",
      "metadata": {},
      "outputs": [
        {
          "name": "stdout",
          "output_type": "stream",
          "text": [
            "       Unnamed: 0  id_realEstates  isNew                    realEstate_name  \\\n",
            "0               1       153771986  False            ferrari 57 inmobiliaria   \n",
            "1               2       153867863  False  tecnocasa fuenlabrada ferrocarril   \n",
            "2               3       153430440  False                 look find boadilla   \n",
            "3               4       152776331  False  tecnocasa fuenlabrada ferrocarril   \n",
            "4               5       153180188  False            ferrari 57 inmobiliaria   \n",
            "...           ...             ...    ...                                ...   \n",
            "15330       15331       153901377  False                infocasa consulting   \n",
            "15331       15332       150394373  False                inmobiliaria pulpon   \n",
            "15332       15333       153901397  False             tecnocasa torrelodones   \n",
            "15333       15334       152607440  False                inmobiliaria pulpon   \n",
            "15334       15335       153901356  False                infocasa consulting   \n",
            "\n",
            "       phone_realEstate                                       url_inmueble  \\\n",
            "0           912177526.0  https://www.fotocasa.es/es/comprar/vivienda/ma...   \n",
            "1           916358736.0  https://www.fotocasa.es/es/comprar/vivienda/ma...   \n",
            "2           916350408.0  https://www.fotocasa.es/es/comprar/vivienda/ma...   \n",
            "3           916358736.0  https://www.fotocasa.es/es/comprar/vivienda/ma...   \n",
            "4           912177526.0  https://www.fotocasa.es/es/comprar/vivienda/ma...   \n",
            "...                 ...                                                ...   \n",
            "15330       911360461.0  https://www.fotocasa.es/es/comprar/vivienda/ma...   \n",
            "15331       912788039.0  https://www.fotocasa.es/es/comprar/vivienda/ma...   \n",
            "15332       912780348.0  https://www.fotocasa.es/es/comprar/vivienda/ma...   \n",
            "15333       912788039.0  https://www.fotocasa.es/es/comprar/vivienda/ma...   \n",
            "15334       911360461.0  https://www.fotocasa.es/es/comprar/vivienda/ma...   \n",
            "\n",
            "       rooms  bathrooms  surface   price  ... level4Id level5Id level6Id  \\\n",
            "0        3.0        2.0    103.0  195000  ...        0        0        0   \n",
            "1        3.0        1.0      NaN   89000  ...        0        0        0   \n",
            "2        2.0        2.0     99.0  390000  ...        0        0        0   \n",
            "3        3.0        1.0     86.0   89000  ...        0        0        0   \n",
            "4        2.0        2.0    106.0  172000  ...        0        0        0   \n",
            "...      ...        ...      ...     ...  ...      ...      ...      ...   \n",
            "15330    2.0        1.0     96.0  259470  ...        0        0        0   \n",
            "15331    3.0        1.0    150.0  165000  ...        0        0        0   \n",
            "15332    4.0        2.0    175.0  495000  ...        0        0        0   \n",
            "15333    3.0        2.0    101.0  195000  ...        0        0        0   \n",
            "15334    3.0        2.0    152.0  765000  ...        0        0        0   \n",
            "\n",
            "      level7Id level8Id accuracy          latitude          longitude zipCode  \\\n",
            "0            0        0        0  40,2948276786438  -3,44402412135624     NaN   \n",
            "1            0        0        1          40,28674           -3,79351     NaN   \n",
            "2            0        0        0  40,4115646786438  -3,90662252135624     NaN   \n",
            "3            0        0        0  40,2853785786438  -3,79508142135624     NaN   \n",
            "4            0        0        0  40,2998774864376  -3,45226301356237     NaN   \n",
            "...        ...      ...      ...               ...                ...     ...   \n",
            "15330        0        0        0          40,45416           -3,70286     NaN   \n",
            "15331        0        0        0          40,36652           -3,48951     NaN   \n",
            "15332        0        0        0          40,57444           -3,92124     NaN   \n",
            "15333        0        0        0          40,36967           -3,48105     NaN   \n",
            "15334        0        0        0          40,45773           -3,69068     NaN   \n",
            "\n",
            "      customZone  \n",
            "0            NaN  \n",
            "1            NaN  \n",
            "2            NaN  \n",
            "3            NaN  \n",
            "4            NaN  \n",
            "...          ...  \n",
            "15330        NaN  \n",
            "15331        NaN  \n",
            "15332        NaN  \n",
            "15333        NaN  \n",
            "15334        NaN  \n",
            "\n",
            "[15335 rows x 37 columns]\n"
          ]
        }
      ],
      "source": [
        "import pandas as pd\n",
        "\n",
        "# Este archivo CSV contiene puntos y comas en lugar de comas como separadores\n",
        "# Se carga el contenido de la dataframe en una variable Df, visualizamos el frame con data wrangler.\n",
        "ds = pd.read_csv('assets/real_estate.csv', sep=';')\n",
        "df = pd.DataFrame(ds)\n",
        "print(df)"
      ]
    },
    {
      "cell_type": "code",
      "execution_count": null,
      "id": "44e90c25",
      "metadata": {},
      "outputs": [],
      "source": []
    },
    {
      "attachments": {},
      "cell_type": "markdown",
      "id": "latin-guest",
      "metadata": {},
      "source": [
        "#### Ejercicio 01. ¿Cuál es la casa más cara en todo el dataset? (★☆☆)\n",
        "\n",
        "Imprime la dirección y el precio de la casa seleccionada. Por ejemplo:\n",
        "\n",
        "`La casa con dirección en Calle del Prado, Nº20 es la más cara y su precio es de 5000000 USD`"
      ]
    },
    {
      "cell_type": "code",
      "execution_count": 7,
      "id": "developing-optimum",
      "metadata": {},
      "outputs": [
        {
          "name": "stdout",
          "output_type": "stream",
          "text": [
            "         price          latitude          longitude      address\n",
            "13110  8500000  40,5830801751782  -4,12951942848611  El Escorial\n"
          ]
        }
      ],
      "source": [
        "\n",
        "import numpy as np\n",
        "import pandas as pd\n",
        "ds = pd.read_csv('assets/real_estate.csv', sep=';')\n",
        "df = pd.DataFrame(ds)\n",
        "dsmax = np.max(df['price'])\n",
        "ds_casamascara = df[df['price'] == dsmax]\n",
        "print(ds_casamascara[['price', 'latitude', 'longitude', 'address']])\n",
        "# utilizamos un operador matematico de numpy para seleccionar el valor mas alto de la columna 'price', y printeamos tanto su precio como direccion."
      ]
    },
    {
      "attachments": {},
      "cell_type": "markdown",
      "id": "lesser-cosmetic",
      "metadata": {},
      "source": [
        "#### Ejercicio 02. ¿Cuál es la casa más barata del dataset? (★☆☆)\n",
        "\n",
        "Imprime la dirección y el precio de la casa seleccionada. Por ejemplo:\n",
        "\n",
        "`La casa con dirección en Calle Alcalá, Nº58 es la más barata y su precio es de 12000 USD`"
      ]
    },
    {
      "cell_type": "code",
      "execution_count": 4,
      "id": "lovely-oasis",
      "metadata": {},
      "outputs": [
        {
          "ename": "ValueError",
          "evalue": "The truth value of a Series is ambiguous. Use a.empty, a.bool(), a.item(), a.any() or a.all().",
          "output_type": "error",
          "traceback": [
            "\u001b[0;31m---------------------------------------------------------------------------\u001b[0m",
            "\u001b[0;31mValueError\u001b[0m                                Traceback (most recent call last)",
            "\u001b[0;32m/tmp/ipykernel_782/2276459927.py\u001b[0m in \u001b[0;36m?\u001b[0;34m()\u001b[0m\n\u001b[1;32m      2\u001b[0m \u001b[0;32mimport\u001b[0m \u001b[0mpandas\u001b[0m \u001b[0;32mas\u001b[0m \u001b[0mpd\u001b[0m\u001b[0;34m\u001b[0m\u001b[0;34m\u001b[0m\u001b[0m\n\u001b[1;32m      3\u001b[0m \u001b[0mds\u001b[0m \u001b[0;34m=\u001b[0m \u001b[0mpd\u001b[0m\u001b[0;34m.\u001b[0m\u001b[0mread_csv\u001b[0m\u001b[0;34m(\u001b[0m\u001b[0;34m'assets/real_estate.csv'\u001b[0m\u001b[0;34m,\u001b[0m \u001b[0msep\u001b[0m\u001b[0;34m=\u001b[0m\u001b[0;34m';'\u001b[0m\u001b[0;34m)\u001b[0m\u001b[0;34m\u001b[0m\u001b[0;34m\u001b[0m\u001b[0m\n\u001b[1;32m      4\u001b[0m \u001b[0mdf\u001b[0m \u001b[0;34m=\u001b[0m \u001b[0mpd\u001b[0m\u001b[0;34m.\u001b[0m\u001b[0mDataFrame\u001b[0m\u001b[0;34m(\u001b[0m\u001b[0mds\u001b[0m\u001b[0;34m)\u001b[0m\u001b[0;34m\u001b[0m\u001b[0;34m\u001b[0m\u001b[0m\n\u001b[1;32m      5\u001b[0m \u001b[0mdsmin\u001b[0m \u001b[0;34m=\u001b[0m \u001b[0mnp\u001b[0m\u001b[0;34m.\u001b[0m\u001b[0mmin\u001b[0m\u001b[0;34m(\u001b[0m\u001b[0mdf\u001b[0m\u001b[0;34m[\u001b[0m\u001b[0;34m'price'\u001b[0m\u001b[0;34m]\u001b[0m\u001b[0;34m)\u001b[0m\u001b[0;34m\u001b[0m\u001b[0;34m\u001b[0m\u001b[0m\n\u001b[0;32m----> 6\u001b[0;31m \u001b[0mds_casamasbarata\u001b[0m \u001b[0;34m=\u001b[0m \u001b[0mdf\u001b[0m\u001b[0;34m[\u001b[0m\u001b[0mdf\u001b[0m\u001b[0;34m[\u001b[0m\u001b[0;34m'price'\u001b[0m\u001b[0;34m]\u001b[0m \u001b[0;34m==\u001b[0m \u001b[0mdsmin\u001b[0m \u001b[0;34m!=\u001b[0m \u001b[0;36m0\u001b[0m\u001b[0;34m]\u001b[0m\u001b[0;34m\u001b[0m\u001b[0;34m\u001b[0m\u001b[0m\n\u001b[0m\u001b[1;32m      7\u001b[0m \u001b[0mprint\u001b[0m\u001b[0;34m(\u001b[0m\u001b[0mds_casamasbarata\u001b[0m\u001b[0;34m[\u001b[0m\u001b[0;34m[\u001b[0m\u001b[0;34m'price'\u001b[0m\u001b[0;34m,\u001b[0m\u001b[0;34m'address'\u001b[0m\u001b[0;34m]\u001b[0m\u001b[0;34m]\u001b[0m\u001b[0;34m)\u001b[0m\u001b[0;34m\u001b[0m\u001b[0;34m\u001b[0m\u001b[0m\n\u001b[1;32m      8\u001b[0m \u001b[0;31m# exactamente lo mismo que el ejercicio anterior pero con el precio mas bajo, podemos observar que en esta columna hay casas con valor de 0\u001b[0m\u001b[0;34m\u001b[0m\u001b[0;34m\u001b[0m\u001b[0m\n",
            "\u001b[0;32m~/.local/lib/python3.11/site-packages/pandas/core/generic.py\u001b[0m in \u001b[0;36m?\u001b[0;34m(self)\u001b[0m\n\u001b[1;32m   1575\u001b[0m     \u001b[0;34m@\u001b[0m\u001b[0mfinal\u001b[0m\u001b[0;34m\u001b[0m\u001b[0;34m\u001b[0m\u001b[0m\n\u001b[1;32m   1576\u001b[0m     \u001b[0;32mdef\u001b[0m \u001b[0m__nonzero__\u001b[0m\u001b[0;34m(\u001b[0m\u001b[0mself\u001b[0m\u001b[0;34m)\u001b[0m \u001b[0;34m->\u001b[0m \u001b[0mNoReturn\u001b[0m\u001b[0;34m:\u001b[0m\u001b[0;34m\u001b[0m\u001b[0;34m\u001b[0m\u001b[0m\n\u001b[0;32m-> 1577\u001b[0;31m         raise ValueError(\n\u001b[0m\u001b[1;32m   1578\u001b[0m             \u001b[0;34mf\"The truth value of a {type(self).__name__} is ambiguous. \"\u001b[0m\u001b[0;34m\u001b[0m\u001b[0;34m\u001b[0m\u001b[0m\n\u001b[1;32m   1579\u001b[0m             \u001b[0;34m\"Use a.empty, a.bool(), a.item(), a.any() or a.all().\"\u001b[0m\u001b[0;34m\u001b[0m\u001b[0;34m\u001b[0m\u001b[0m\n\u001b[1;32m   1580\u001b[0m         )\n",
            "\u001b[0;31mValueError\u001b[0m: The truth value of a Series is ambiguous. Use a.empty, a.bool(), a.item(), a.any() or a.all()."
          ]
        }
      ],
      "source": [
        "import numpy as np\n",
        "import pandas as pd\n",
        "ds = pd.read_csv('assets/real_estate.csv', sep=';')\n",
        "df = pd.DataFrame(ds)\n",
        "dsmin = np.min(df['price'])\n",
        "ds_casamasbarata = df[df['price'] == dsmin]\n",
        "print(ds_casamasbarata[['price','address']])\n",
        "# exactamente lo mismo que el ejercicio anterior pero con el precio mas bajo, podemos observar que en esta columna hay casas con valor de 0"
      ]
    },
    {
      "attachments": {},
      "cell_type": "markdown",
      "id": "compliant-fellowship",
      "metadata": {},
      "source": [
        "#### Ejercicio 03. ¿Cuál es la casa más grande y la más pequeña del dataset? (★☆☆)\n",
        "\n",
        "Imprime la dirección y el área de las casas seleccionadas. Por ejemplo:\n",
        "\n",
        "`La casa más grande está ubicada en Calle Gran Vía, Nº38 y su superficie es de 5000 metros`\n",
        "\n",
        "`La casa más pequeña está ubicada en Calle Mayor, Nº12 y su superficie es de 200 metros`"
      ]
    },
    {
      "cell_type": "code",
      "execution_count": 10,
      "id": "every-tiffany",
      "metadata": {},
      "outputs": [
        {
          "name": "stdout",
          "output_type": "stream",
          "text": [
            "     surface                        address\n",
            "498     15.0  Calle Amparo,  Madrid Capital\n",
            "       surface           address\n",
            "6794  249000.0  Sevilla la Nueva\n"
          ]
        }
      ],
      "source": [
        "import numpy as np\n",
        "import pandas as pd\n",
        "ds = pd.read_csv('assets/real_estate.csv', sep=';')\n",
        "df = pd.DataFrame(ds)\n",
        "dspeque = np.min(df['surface'])\n",
        "ds_peque = df[df['surface'] == dspeque] \n",
        "print(ds_peque[['surface','address']])\n",
        "dsgrande = np.max(df['surface'])\n",
        "ds_grande = df[df['surface']==dsgrande]\n",
        "print(ds_grande[['surface', 'address']])\n",
        "# filtramos las viviendas objetivo por el tama;o o el valor numerico de la columna surface, que hace referencia al tamanyo en metros cuadrados."
      ]
    },
    {
      "attachments": {},
      "cell_type": "markdown",
      "id": "danish-spirit",
      "metadata": {},
      "source": [
        "#### Ejercicio 04. ¿Cuantas poblaciones (columna level5) contiene el dataset? (★☆☆)\n",
        "\n",
        "Imprime el nombre de las poblaciones separadas por coma. Por ejemplo:\n",
        "\n",
        "`> print(populations)`\n",
        "\n",
        "`population1, population2, population3, ...`"
      ]
    },
    {
      "cell_type": "code",
      "execution_count": 11,
      "id": "exciting-accreditation",
      "metadata": {},
      "outputs": [
        {
          "name": "stdout",
          "output_type": "stream",
          "text": [
            "['Arganda del Rey' 'Fuenlabrada' 'Boadilla del Monte'\n",
            " 'Las Rozas de Madrid' ' Madrid Capital' 'Villaviciosa de Odón' 'Pinto'\n",
            " 'Valdemoro' 'Navalcarnero' 'Pozuelo de Alarcón' 'Torrejón de Ardoz'\n",
            " 'Navalagamella' 'San Sebastián de los Reyes' 'Rivas-vaciamadrid'\n",
            " 'Alpedrete' 'Móstoles' 'San Fernando de Henares' 'Coslada'\n",
            " 'Becerril de la Sierra' 'Alcalá de Henares' 'Chinchón' 'Parla' 'Alcorcón'\n",
            " 'El Escorial' 'Leganés' 'Pedrezuela' 'Majadahonda'\n",
            " 'Villanueva de la Cañada' 'Villanueva del Pardillo' 'Torrelodones'\n",
            " 'Moralzarzal' 'Mejorada del Campo' 'Aranjuez' 'Corpa' 'Getafe'\n",
            " 'Velilla de San Antonio' 'Sevilla la Nueva' 'San Martín de la Vega'\n",
            " 'Villalbilla' 'Collado Villalba' 'Alcobendas' 'El Molar (Madrid)'\n",
            " 'Moraleja de Enmedio' 'Algete' 'Campo Real' 'Torrejón de la Calzada'\n",
            " 'Colmenar Viejo' 'Valdemorillo' 'Fuente El Saz de Jarama' 'Tres Cantos'\n",
            " 'Arroyomolinos (Madrid)' 'Griñón' 'Paracuellos de Jarama' 'Guadarrama'\n",
            " 'Titulcia' 'Galapagar' 'Collado Mediano' 'Los Molinos'\n",
            " 'San Lorenzo de El Escorial' 'Loeches' 'San Martín de Valdeiglesias'\n",
            " 'Navas del Rey' 'Bustarviejo' 'Manzanares El Real' 'Carabaña'\n",
            " 'Casarrubuelos' 'Cercedilla' 'Fresnedillas de la Oliva' 'Valdemaqueda'\n",
            " 'Robledo de Chavela' 'Miraflores de la Sierra' 'Humanes de Madrid'\n",
            " 'Valdetorres de Jarama' 'San Agustín del Guadalix' 'Ciempozuelos'\n",
            " 'Camarma de Esteruelas' 'Torres de la Alameda' 'Talamanca de Jarama'\n",
            " 'El Atazar' 'Hoyo de Manzanares' 'El Boalo - Cerceda – Mataelpino'\n",
            " 'El Álamo' 'Valdilecha' 'Valdeolmos-Alalpardo' 'Guadalix de la Sierra'\n",
            " 'Belmonte de Tajo' 'El Vellón' 'Brunete' 'Redueña' 'Morata de Tajuña'\n",
            " 'Tielmes' 'Gargantilla del Lozoya' 'Meco' 'Venturada' 'Quijorna'\n",
            " 'Cenicientos' 'Torrejón de Velasco' 'Navacerrada'\n",
            " 'Santa María de la Alameda' 'Orusco de Tajuña' 'Daganzo de Arriba'\n",
            " 'Villamanta' 'Anchuelo' 'Valdaracete' 'Ajalvir' 'Los Santos de la Humosa'\n",
            " 'Villamanrique de Tajo' 'Colmenar de Oreja' 'Villa del Prado'\n",
            " 'Fuentidueña de Tajo' 'Colmenar del Arroyo' 'Valdelaguna'\n",
            " 'Cubas de la Sagra' 'Valdeavero' 'Aldea del Fresno' 'Ribatejada'\n",
            " 'Torrelaguna' 'Batres' 'Pezuela de las Torres' 'Colmenarejo'\n",
            " 'Serranillos del Valle' 'Cobeña' 'Soto del Real' 'El Berrueco'\n",
            " 'Villanueva de Perales' 'Fresno de Torote - Serracines' 'Pozuelo del Rey'\n",
            " 'Pelayos de la Presa' 'La Cabrera' 'Nuevo Baztán' 'Perales de Tajuña'\n",
            " 'Villaconejos' 'Villarejo de Salvanés' 'Cadalso de los Vidrios'\n",
            " 'Santorcaz' 'Madarcos' 'Garganta de los Montes' 'Puentes Viejas'\n",
            " 'Torremocha de Jarama' 'Valdemanco' 'Braojos'\n",
            " 'Lozoyuela-navas-sieteiglesias' 'Piñuécar-gandullas' 'Valdepiélagos'\n",
            " 'Valverde de Alcalá' 'Villar del Olmo' 'Villamantilla'\n",
            " 'Horcajo de la Sierra' 'Gascones' 'Zarzalejo' 'Villavieja del Lozoya'\n",
            " 'Brea de Tajo' 'Estremera' 'Chapinería' 'Navarredonda' 'Patones' 'Ambite'\n",
            " 'Navalafuente' 'Lozoya' 'Canencia' 'Cabanillas de la Sierra'\n",
            " 'Buitrago del Lozoya' 'Fresno de Torote' 'Robregordo' 'Pinilla del Valle'\n",
            " 'Rascafría' 'La Hiruela' 'Montejo de la Sierra']\n"
          ]
        }
      ],
      "source": [
        "import numpy as np\n",
        "import pandas as pd\n",
        "ds = pd.read_csv('assets/real_estate.csv', sep=';')\n",
        "df = pd.DataFrame(ds)\n",
        "poblaciones_existentes = df['level5'].unique()\n",
        "print(poblaciones_existentes)\n",
        "# creamos una variable para poder escribir en el terminal las poblaciones, en este caso nos interesa la cantidad de poblaciones diferentes,\n",
        "# asi que utilizamos el operando de panda .unique() para no repetir valores.\n"
      ]
    },
    {
      "attachments": {},
      "cell_type": "markdown",
      "id": "crazy-blame",
      "metadata": {},
      "source": [
        "#### Ejercicio 05. ¿El dataset contiene valores no admitidos (NAs)? (★☆☆)\n",
        "\n",
        "Imprima un booleano (`True` o `False`) seguido de la fila/columna que contiene el NAs."
      ]
    },
    {
      "cell_type": "code",
      "execution_count": 9,
      "id": "transparent-poetry",
      "metadata": {},
      "outputs": [
        {
          "data": {
            "text/plain": [
              "np.True_"
            ]
          },
          "execution_count": 9,
          "metadata": {},
          "output_type": "execute_result"
        }
      ],
      "source": [
        "import numpy as np\n",
        "import pandas as pd\n",
        "ds = pd.read_csv('assets/real_estate.csv', sep=';')\n",
        "df = pd.DataFrame(ds)\n",
        "def check_columns(df, zipCode, customZone, treshold):\n",
        "    return (df[zipCode] + df[customZone]).sum() == 0\n",
        "check_columns(df, 'zipCode', 'customZone', 0)\n",
        "#Utilizamos una funcion para verificar el contenido de cada posicion de las columnas zipCode y customZone\n",
        "#que son las que no tienen valores aceptados 'NAs', en este caso lo comparamos a 0, aunque tambien podriamos compararlo\n",
        "# a diferente de 0, !=0. en este caso nos devuelve true porque no hay valores asignados a estas columnas y el valor es 0."
      ]
    },
    {
      "attachments": {},
      "cell_type": "markdown",
      "id": "italic-hydrogen",
      "metadata": {},
      "source": [
        "#### Ejercicio 06. Elimina los NAs del dataset, si aplica (★★☆)\n",
        "\n",
        "Imprima una comparación entre las dimensiones del DataFrame original versus el DataFrame después de las eliminaciones.\n"
      ]
    },
    {
      "cell_type": "code",
      "execution_count": 2,
      "id": "administrative-roads",
      "metadata": {},
      "outputs": [
        {
          "data": {
            "text/plain": [
              "False"
            ]
          },
          "execution_count": 2,
          "metadata": {},
          "output_type": "execute_result"
        }
      ],
      "source": [
        "import numpy as np\n",
        "import pandas as pd\n",
        "ds = pd.read_csv('assets/real_estate.csv', sep=';')\n",
        "df = pd.DataFrame(ds)\n",
        "df1 = df.loc[:, (df != df.iloc[0]).any()]\n",
        "#hacemos una copia del dataframe original llamada df1, filtramos sus columnas con\n",
        "# la equacion anterior, para cada columna y para cada posicion, con esta sentencia conseguimos\n",
        "# que nuestro programa elimine columnas que tengan valor constante en todas sus posiciones.\n",
        "def comparardfs(x,y):\n",
        "    return x.shape == y.shape\n",
        "# Con esta funcion comparamos por dimension un dataframe con otro y comprobamos que sean diferentes, para asegurarnos\n",
        "# que la finalidad sea la correcta, dicha funcion debe devolvernos un true.\n",
        "comparardfs(df,df1)\n",
        "#print(df1)\n",
        "\n",
        "\n"
      ]
    },
    {
      "attachments": {},
      "cell_type": "markdown",
      "id": "middle-china",
      "metadata": {},
      "source": [
        "#### Ejercicio 07. ¿Cuál la media de precios en la población (columna level5) de \"Arroyomolinos (Madrid)\"? (★★☆)\n",
        "\n",
        "Imprima el valor obtenido."
      ]
    },
    {
      "cell_type": "code",
      "execution_count": 10,
      "id": "nuclear-belief",
      "metadata": {},
      "outputs": [
        {
          "name": "stdout",
          "output_type": "stream",
          "text": [
            "294541.59854014596\n"
          ]
        }
      ],
      "source": [
        "import numpy as np\n",
        "import pandas as pd\n",
        "ds = pd.read_csv('assets/real_estate.csv', sep=';')\n",
        "df = pd.DataFrame(ds)\n",
        "PrecioMedioArroyomolinos = df.groupby('level5').get_group('Arroyomolinos (Madrid)')['price'].mean()\n",
        "#Equacion de operadores de dataframes para agrupar de una columna y su valor unico objetivo, con los valores\n",
        "# que le pertenecen de otra columna, aplicando un mean para realizar una media de todos esos valores.\n",
        "print(PrecioMedioArroyomolinos)"
      ]
    },
    {
      "cell_type": "markdown",
      "id": "1b6544f9",
      "metadata": {},
      "source": [
        "Es zona cara de MAdrid?"
      ]
    },
    {
      "attachments": {},
      "cell_type": "markdown",
      "id": "concerned-radical",
      "metadata": {},
      "source": [
        "#### Ejercicio 08. Trazar el histograma de los precios para la población (level5 column) de \"Arroyomolinos (Madrid)\" y explica qué observas (★★☆)\n",
        "\n",
        "Imprime el histograma de los precios y escribe en la celda del Markdown un breve análisis del trazado.\n"
      ]
    },
    {
      "cell_type": "code",
      "execution_count": 12,
      "id": "sudden-message",
      "metadata": {},
      "outputs": [
        {
          "data": {
            "image/png": "[encoded data removed]",
            "text/plain": [
              "<Figure size 1000x500 with 1 Axes>"
            ]
          },
          "metadata": {},
          "output_type": "display_data"
        }
      ],
      "source": [
        "import numpy as np\n",
        "import pandas as pd\n",
        "import matplotlib.pyplot as plt\n",
        "ds = pd.read_csv('assets/real_estate.csv', sep=';')\n",
        "df = pd.DataFrame(ds)\n",
        "plt.figure(figsize = (10, 5))\n",
        "dfx = df.groupby('level5').get_group('Arroyomolinos (Madrid)')['date']\n",
        "dfy = df.groupby('level5').get_group('Arroyomolinos (Madrid)')['price']\n",
        "plt.bar(dfx[:30], dfy[:30])\n",
        "plt.xlabel('tiempo')\n",
        "plt.ylabel('Precio')\n",
        "plt.title('Histograma de precios en Arroyomolinos')\n",
        "plt.show()\n",
        "# He utilizado la funcion group para asociar tiempo y zona, y precio y zona para crear los\n",
        "# ejes del histograma, solo he utilizado las 30 primeras posiciones de cada columna.\n",
        "# el precio en arroyomolinos se mantiene constante.\n"
      ]
    },
    {
      "cell_type": "markdown",
      "id": "fc63f45f",
      "metadata": {},
      "source": [
        "He utilizado el eje X , la fecha de publicacion de las ofertas, no se ve nada dado que las etiquetas no las he empleado bien."
      ]
    },
    {
      "attachments": {},
      "cell_type": "markdown",
      "id": "impressed-combination",
      "metadata": {},
      "source": [
        "**TODO: Markdown**. Para escribir aquí, haz doble clic en esta celda, elimina este contenido y coloca lo que quieras escribir. Luego ejecuta la celda."
      ]
    },
    {
      "attachments": {},
      "cell_type": "markdown",
      "id": "actual-edinburgh",
      "metadata": {},
      "source": [
        "#### Ejercicio 09. ¿Son los precios promedios de \"Valdemorillo\" y \"Galapagar\" los mismos? (★★☆)\n",
        "\n",
        "Imprime ambos promedios y escribe una conclusión sobre ellos."
      ]
    },
    {
      "cell_type": "code",
      "execution_count": 20,
      "id": "numeric-commerce",
      "metadata": {},
      "outputs": [
        {
          "name": "stdout",
          "output_type": "stream",
          "text": [
            "El Precio en valdemorillo es mas caro que en galapagar\n",
            "360063.20238095237\n",
            "363860.2931034483\n"
          ]
        }
      ],
      "source": [
        "import numpy as np\n",
        "import pandas as pd\n",
        "import matplotlib.pyplot as plt\n",
        "ds = pd.read_csv('assets/real_estate.csv', sep=';')\n",
        "df = pd.DataFrame(ds)\n",
        "PrecioMedioGalapagar = df.groupby('level5').get_group('Galapagar')['price'].mean()\n",
        "PrecioMedioValdemorillo = df.groupby('level5').get_group('Valdemorillo')['price'].mean()\n",
        "\n",
        "if PrecioMedioGalapagar > PrecioMedioValdemorillo:\n",
        "    print(\"El precio medio en Galapagar es mas caro que en Valdemorillo\")\n",
        "else: print(\"El Precio en valdemorillo es mas caro que en galapagar\")\n",
        "print(PrecioMedioGalapagar)\n",
        "print(PrecioMedioValdemorillo)\n",
        "\n",
        "#Aunque es mas caro el precio de la vivienda en Valdemorillo, se asemejan bastante."
      ]
    },
    {
      "attachments": {},
      "cell_type": "markdown",
      "id": "lonely-article",
      "metadata": {},
      "source": [
        "#### Ejercicio 10. ¿Son los promedios de precio por metro cuadrado (precio/m2) de \"Valdemorillo\" y \"Galapagar\" los mismos? (★★☆)\n",
        "\n",
        "Imprime ambos promedios de precio por metro cuadrado y escribe una conclusión sobre ellos.\n",
        "\n",
        "Pista: Crea una nueva columna llamada `pps` (*price per square* o precio por metro cuadrado) y luego analiza los valores."
      ]
    },
    {
      "cell_type": "code",
      "execution_count": 26,
      "id": "hourly-globe",
      "metadata": {},
      "outputs": [
        {
          "name": "stdout",
          "output_type": "stream",
          "text": [
            "1606.3240303094024\n",
            "1317.9502109024986\n"
          ]
        }
      ],
      "source": [
        "import numpy as np\n",
        "import pandas as pd\n",
        "import matplotlib.pyplot as plt\n",
        "ds = pd.read_csv('assets/real_estate.csv', sep=';')\n",
        "df = pd.DataFrame(ds)\n",
        "df['pps'] = df['price']/ df['surface']\n",
        "#print(df['pps'])\n",
        "PrecioMedioGalapagar = df.groupby('level5').get_group('Galapagar')['price'].mean()\n",
        "PrecioMedioValdemorillo = df.groupby('level5').get_group('Valdemorillo')['price'].mean()\n",
        "PpsGalapagar = df.groupby('level5').get_group('Galapagar')['pps'].mean()\n",
        "PpsValdemorillo = df.groupby('level5').get_group('Valdemorillo')['pps'].mean()\n",
        "print(PpsGalapagar)\n",
        "print(PpsValdemorillo)\n",
        "\n",
        "#Se asemeja mucho el precio entre galapagar y valdemorillo. Es ligeramente mas caro en Galapagar.\n",
        "\n"
      ]
    },
    {
      "attachments": {},
      "cell_type": "markdown",
      "id": "pleasant-invite",
      "metadata": {},
      "source": [
        "#### Ejercicio 11. Analiza la relación entre la superficie y el precio de las casas. (★★☆)\n",
        "\n",
        "Pista: Puedes hacer un `scatter plot` y luego escribir una conclusión al respecto."
      ]
    },
    {
      "cell_type": "code",
      "execution_count": 34,
      "id": "common-drilling",
      "metadata": {},
      "outputs": [
        {
          "data": {
            "image/png": "[encoded data removed]",
            "text/plain": [
              "<Figure size 640x480 with 1 Axes>"
            ]
          },
          "metadata": {},
          "output_type": "display_data"
        }
      ],
      "source": [
        "import numpy as np\n",
        "import pandas as pd\n",
        "import matplotlib.pyplot as plt\n",
        "ds = pd.read_csv('assets/real_estate.csv', sep=';')\n",
        "df = pd.DataFrame(ds)\n",
        "n = int(len(df) * 0.05) #con esta funcion aignamos solo un 5% de las filas uniformemente\n",
        "#a las muestras del grafico.\n",
        "df_sample = df.sample(n, replace=False) #no reemplazamos los valores de las columnas.\n",
        "plt.scatter(df_sample['surface'], df_sample['price'])\n",
        "plt.xlabel('Superficie')\n",
        "plt.ylabel('Precio')\n",
        "plt.title('Evolucion precios viviendas por metros cuadrados')\n",
        "plt.show()\n",
        "#Podemos deducir que los precios de las viviendas se disparan entre 0 y 1000 metros por la ley de oferta y demanda.\n"
      ]
    },
    {
      "cell_type": "markdown",
      "id": "9d82489f",
      "metadata": {},
      "source": [
        "En un rango de vivienda residencial, observamos que influye mas la oferta y la demanda que la superficie de la vivienda."
      ]
    },
    {
      "attachments": {},
      "cell_type": "markdown",
      "id": "ahead-liquid",
      "metadata": {},
      "source": [
        "**TODO: Markdown**. Para escribir aquí, haz doble clic en esta celda, elimina este contenido y coloca lo que quieras escribir. Luego ejecuta la celda."
      ]
    },
    {
      "attachments": {},
      "cell_type": "markdown",
      "id": "coordinate-sunrise",
      "metadata": {},
      "source": [
        "#### Ejercicio 12. ¿Cuántas agencia de bienes raíces contiene el dataset? (★★☆)\n",
        "\n",
        "Imprime el valor obtenido."
      ]
    },
    {
      "cell_type": "code",
      "execution_count": 50,
      "id": "valid-honolulu",
      "metadata": {},
      "outputs": [
        {
          "name": "stdout",
          "output_type": "stream",
          "text": [
            "El numero de agencias de bienes raices son: 1822\n"
          ]
        }
      ],
      "source": [
        "import numpy as np\n",
        "import pandas as pd\n",
        "import matplotlib.pyplot as plt\n",
        "ds = pd.read_csv('assets/real_estate.csv', sep=';')\n",
        "df = pd.DataFrame(ds)\n",
        "contador = 0\n",
        "for valor in df['realEstate_name'].unique():\n",
        "\n",
        "  contador += 1\n",
        "\n",
        "print(\"El numero de agencias de bienes raices son:\", contador)"
      ]
    },
    {
      "attachments": {},
      "cell_type": "markdown",
      "id": "binding-ebony",
      "metadata": {},
      "source": [
        "#### Ejercicio 13. ¿Cuál es la población (columna level5) que contiene la mayor cantidad de casas?(★★☆)\n",
        "\n",
        "Imprima la población y el número de casas."
      ]
    },
    {
      "cell_type": "code",
      "execution_count": 3,
      "id": "static-perry",
      "metadata": {},
      "outputs": [
        {
          "name": "stdout",
          "output_type": "stream",
          "text": [
            "level5\n",
            " Madrid Capital         6643\n",
            "Alcalá de Henares        525\n",
            "Las Rozas de Madrid      383\n",
            "Móstoles                 325\n",
            "Getafe                   290\n",
            "                        ... \n",
            "Fresno de Torote           1\n",
            "Pinilla del Valle          1\n",
            "Rascafría                  1\n",
            "La Hiruela                 1\n",
            "Montejo de la Sierra       1\n",
            "Name: count, Length: 168, dtype: int64\n",
            "La poblacion que mas viviendas tiene es  Madrid Capital\n"
          ]
        }
      ],
      "source": [
        "import numpy as np\n",
        "import pandas as pd\n",
        "import matplotlib.pyplot as plt\n",
        "ds = pd.read_csv('assets/real_estate.csv', sep=';')\n",
        "df = pd.DataFrame(ds)\n",
        "#Si suponemos que las filas son viviendas, deberemos contar como valores unicos cada celda de level5, la que mas tenga es la poblacion\n",
        "# con mas viviendas.'se consigue combinando el cuenteo de valores unicos y el valor unico con mas cuenteos de la columna\n",
        "dlvl5max = df['level5'].value_counts().idxmax()\n",
        "print(df['level5'].value_counts())\n",
        "print(\"La poblacion que mas viviendas tiene es\", dlvl5max)"
      ]
    },
    {
      "attachments": {},
      "cell_type": "markdown",
      "id": "entire-classification",
      "metadata": {},
      "source": [
        "#### Ejercicio 14. Ahora vamos a trabajar con el \"cinturón sur\" de Madrid. Haz un subconjunto del DataFrame original que contenga las siguientes poblaciones (columna level5): \"Fuenlabrada\", \"Leganés\", \"Getafe\", \"Alcorcón\" (★★☆)\n",
        "\n",
        "Pista: Filtra el DataFrame original usando la columna `level5` y la función `isin`."
      ]
    },
    {
      "cell_type": "code",
      "execution_count": 2,
      "id": "binary-input",
      "metadata": {},
      "outputs": [
        {
          "name": "stdout",
          "output_type": "stream",
          "text": [
            "       Unnamed: 0  id_realEstates  isNew  \\\n",
            "1               2       153867863  False   \n",
            "3               4       152776331  False   \n",
            "85             86       153152077  False   \n",
            "94             95       153995577  False   \n",
            "109           110       153586414  False   \n",
            "...           ...             ...    ...   \n",
            "15275       15276       153903887  False   \n",
            "15291       15292       151697757  False   \n",
            "15305       15306       153902389  False   \n",
            "15322       15323       153871864  False   \n",
            "15325       15326       153901467  False   \n",
            "\n",
            "                                 realEstate_name  phone_realEstate  \\\n",
            "1              tecnocasa fuenlabrada ferrocarril       916358736.0   \n",
            "3              tecnocasa fuenlabrada ferrocarril       916358736.0   \n",
            "85                       sinergical inmobiliaria               NaN   \n",
            "94                               viviendas365com       911226014.0   \n",
            "109              area uno asesores inmobiliarios       912664081.0   \n",
            "...                                          ...               ...   \n",
            "15275  aliseda servicios de gestion inmobiliaria       911368198.0   \n",
            "15291                                    unipiso       912788631.0   \n",
            "15305                             jadein ferrero       914871639.0   \n",
            "15322                          gestion comercial       911220662.0   \n",
            "15325                              montehogar 68       911790675.0   \n",
            "\n",
            "                                            url_inmueble  rooms  bathrooms  \\\n",
            "1      https://www.fotocasa.es/es/comprar/vivienda/ma...    3.0        1.0   \n",
            "3      https://www.fotocasa.es/es/comprar/vivienda/ma...    3.0        1.0   \n",
            "85     https://www.fotocasa.es/es/comprar/vivienda/le...    1.0        1.0   \n",
            "94     https://www.fotocasa.es/es/comprar/vivienda/le...    3.0        2.0   \n",
            "109    https://www.fotocasa.es/es/comprar/vivienda/ma...    3.0        3.0   \n",
            "...                                                  ...    ...        ...   \n",
            "15275  https://www.fotocasa.es/es/comprar/vivienda/al...    3.0        1.0   \n",
            "15291  https://www.fotocasa.es/es/comprar/vivienda/al...    3.0        2.0   \n",
            "15305  https://www.fotocasa.es/es/comprar/vivienda/ma...    3.0        2.0   \n",
            "15322  https://www.fotocasa.es/es/comprar/vivienda/ma...    3.0        1.0   \n",
            "15325  https://www.fotocasa.es/es/comprar/vivienda/ma...    2.0        2.0   \n",
            "\n",
            "       surface   price  ... level4Id level5Id level6Id level7Id level8Id  \\\n",
            "1          NaN   89000  ...        0        0        0        0        0   \n",
            "3         86.0   89000  ...        0        0        0        0        0   \n",
            "85        50.0  107000  ...        0        0        0        0        0   \n",
            "94       120.0  320000  ...        0        0        0        0        0   \n",
            "109      142.0  425000  ...        0        0        0        0        0   \n",
            "...        ...     ...  ...      ...      ...      ...      ...      ...   \n",
            "15275     78.0  138000  ...        0        0        0        0        0   \n",
            "15291    110.0  279000  ...        0        0        0        0        0   \n",
            "15305     85.0  170000  ...        0        0        0        0        0   \n",
            "15322     91.0  112000  ...        0        0        0        0        0   \n",
            "15325     99.0  215000  ...        0        0        0        0        0   \n",
            "\n",
            "      accuracy          latitude          longitude zipCode customZone  \n",
            "1            1          40,28674           -3,79351     NaN        NaN  \n",
            "3            0  40,2853785786438  -3,79508142135624     NaN        NaN  \n",
            "85           1          40,35059           -3,82693     NaN        NaN  \n",
            "94           0          40,31933           -3,77574     NaN        NaN  \n",
            "109          0        40,3313411         -3,8313868     NaN        NaN  \n",
            "...        ...               ...                ...     ...        ...  \n",
            "15275        1          40,31381           -3,83733     NaN        NaN  \n",
            "15291        0        40,3259051           -3,76318     NaN        NaN  \n",
            "15305        0        40,2882193         -3,8098617     NaN        NaN  \n",
            "15322        0          40,28282           -3,78892     NaN        NaN  \n",
            "15325        1          40,28062           -3,79869     NaN        NaN  \n",
            "\n",
            "[907 rows x 37 columns]\n"
          ]
        }
      ],
      "source": [
        "import numpy as np\n",
        "import pandas as pd\n",
        "import matplotlib.pyplot as plt\n",
        "ds = pd.read_csv('assets/real_estate.csv', sep=';')\n",
        "df = pd.DataFrame(ds)\n",
        "#Duplicamos el dataframe solo para las filas que en level5 contenga los valores unicos especificados en el ejercicio.\n",
        "Poblaciones = ['Fuenlabrada','Leganés','Getafe','Alcorcón']\n",
        "dfsubconjunto= df[df['level5'].isin(Poblaciones)]\n",
        "print(dfsubconjunto)"
      ]
    },
    {
      "attachments": {},
      "cell_type": "markdown",
      "id": "severe-fisher",
      "metadata": {},
      "source": [
        "#### Ejercicio 15. Traza un gráfico de barras de la mediana de los precios y explica lo que observas (debes usar el subconjunto obtenido del Ejercicio 14) (★★★)\n",
        "\n",
        "Imprima un gráfico de barras de la mediana de precios y escriba en la celda Markdown un breve análisis sobre el gráfico."
      ]
    },
    {
      "cell_type": "code",
      "execution_count": 15,
      "id": "lyric-bunch",
      "metadata": {},
      "outputs": [
        {
          "name": "stdout",
          "output_type": "stream",
          "text": [
            "177198.02145922746 208682.01030927835 265040.5 230071.05263157896\n"
          ]
        },
        {
          "data": {
            "image/png": "[encoded data removed]",
            "text/plain": [
              "<Figure size 1200x800 with 1 Axes>"
            ]
          },
          "metadata": {},
          "output_type": "display_data"
        }
      ],
      "source": [
        "import numpy as np\n",
        "import pandas as pd\n",
        "import matplotlib.pyplot as plt\n",
        "ds = pd.read_csv('assets/real_estate.csv', sep=';')\n",
        "df = pd.DataFrame(ds)\n",
        "#Duplicamos el dataframe solo para las filas que en level5 contenga los valores unicos especificados en el ejercicio anterior.\n",
        "Poblaciones = ['Fuenlabrada','Leganés','Getafe','Alcorcón']\n",
        "dfsubconjunto= df[df['level5'].isin(Poblaciones)]\n",
        "#Primero de todo haremos el precio medio de la vivienda por poblaciones.\n",
        "PMFuenlabrada = dfsubconjunto.groupby('level5').get_group('Fuenlabrada')['price'].mean()\n",
        "PMLeganés = dfsubconjunto.groupby('level5').get_group('Leganés')['price'].mean()\n",
        "PMGetafe = dfsubconjunto.groupby('level5').get_group('Getafe')['price'].mean()\n",
        "PMAlcorcón = dfsubconjunto.groupby('level5').get_group('Alcorcón')['price'].mean()\n",
        "print(PMFuenlabrada, PMLeganés, PMGetafe, PMAlcorcón)\n",
        "#Compararemos los precios medios de las viviendas mediante un diagrama de barras.\n",
        "\n",
        "labels = [\"Fuenlabrada\", \"Leganés\", \"Getafe\", \"Alcorcón\"]\n",
        "values = [PMFuenlabrada, PMLeganés, PMGetafe, PMAlcorcón]\n",
        "\n",
        "plt.figure(figsize = (12, 8))\n",
        "\n",
        "plt.bar(labels, values)\n",
        "\n",
        "plt.title(\"Precio medio viviendas\")\n",
        "plt.show()"
      ]
    },
    {
      "attachments": {},
      "cell_type": "markdown",
      "id": "sublime-newspaper",
      "metadata": {},
      "source": [
        "Los precios mas caros en la zona sur de Madrid están en Getafe, ligeramente mas altos que en Alcorcón y Leganés"
      ]
    },
    {
      "attachments": {},
      "cell_type": "markdown",
      "id": "speaking-diamond",
      "metadata": {},
      "source": [
        "#### Ejercicio 16. Calcula la media y la varianza de muestra para las siguientes variables: precio, habitaciones, superficie y baños (debes usar el subconjunto obtenido del Ejercicio 14) (★★★)\n",
        "\n",
        "Imprime ambos valores por cada variable."
      ]
    },
    {
      "cell_type": "code",
      "execution_count": 29,
      "id": "random-feeling",
      "metadata": {},
      "outputs": [
        {
          "name": "stdout",
          "output_type": "stream",
          "text": [
            "El precio medio con un wc es: 138717.9356984479\n",
            "El precio medio con 2 wc's es: 279704.53890489915\n",
            "El precio medio con 3 wc's es: 381898.0487804878\n",
            "El precio medio con 4 wc's es: 498824.1666666667\n",
            "El precio medio con una habitacion es: 139694.73684210525\n",
            "El precio medio con 2 habitaciones es: 174012.36879432623\n",
            "El precio medio con 3 habitaciones es: 196067.70093457945\n",
            "El precio medio con 4 habitaciones es: 334291.33757961786\n",
            "El valor medio del metro cuadrado de la vivienda mas barata es: 189    1000.0\n",
            "Name: surface, dtype: float64\n",
            "El valor medio del metro cuadrado de la vivienda gama media es: 1996.3314684115255\n",
            "El valor medio del metro cuadrado de la vivienda gama alta es: 1454.2936288088642\n",
            "La varianza por wc's: bathrooms\n",
            "1.0    1.119585e+09\n",
            "2.0    9.249843e+09\n",
            "3.0    8.620394e+09\n",
            "4.0    4.368784e+10\n",
            "5.0    6.778396e+09\n",
            "6.0             NaN\n",
            "Name: price, dtype: float64\n",
            "La varianza por habitaciones: rooms\n",
            "1.0    8.018875e+08\n",
            "2.0    7.017141e+09\n",
            "3.0    9.207997e+09\n",
            "4.0    1.047712e+10\n",
            "5.0    1.747005e+10\n",
            "6.0    7.265071e+10\n",
            "7.0    0.000000e+00\n",
            "Name: price, dtype: float64\n",
            "La varianza por metros cuadradros: surface\n",
            "38.0              NaN\n",
            "44.0     0.000000e+00\n",
            "45.0              NaN\n",
            "47.0              NaN\n",
            "49.0              NaN\n",
            "             ...     \n",
            "350.0    1.250000e+09\n",
            "360.0             NaN\n",
            "450.0             NaN\n",
            "600.0    4.219512e+10\n",
            "722.0             NaN\n",
            "Name: price, Length: 166, dtype: float64\n"
          ]
        }
      ],
      "source": [
        "import numpy as np\n",
        "import pandas as pd\n",
        "import matplotlib.pyplot as plt\n",
        "ds = pd.read_csv('assets/real_estate.csv', sep=';')\n",
        "df = pd.DataFrame(ds)\n",
        "Poblaciones = ['Fuenlabrada','Leganés','Getafe','Alcorcón']\n",
        "dfsubconjunto= df[df['level5'].isin(Poblaciones)]\n",
        "#Realizaremos los precios medios de viviendas en funcion de numero de baños y habitaciones\n",
        "#En funcion de los wcs:\n",
        "preciomedio1wc = dfsubconjunto[dfsubconjunto['bathrooms'] == 1]['price'].mean()\n",
        "print(\"El precio medio con un wc es:\",preciomedio1wc)\n",
        "preciomedio2wc = dfsubconjunto[dfsubconjunto['bathrooms'] == 2]['price'].mean()\n",
        "print(\"El precio medio con 2 wc's es:\",preciomedio2wc)\n",
        "preciomedio3wc = dfsubconjunto[dfsubconjunto['bathrooms'] == 3]['price'].mean()\n",
        "print(\"El precio medio con 3 wc's es:\",preciomedio3wc)\n",
        "preciomedio4wc = dfsubconjunto[dfsubconjunto['bathrooms'] == 4]['price'].mean()\n",
        "print(\"El precio medio con 4 wc's es:\",preciomedio4wc)\n",
        "#En funcion de las habitaciones:\n",
        "preciomedio1room = dfsubconjunto[dfsubconjunto['rooms'] == 1]['price'].mean()\n",
        "print(\"El precio medio con una habitacion es:\", preciomedio1room)\n",
        "preciomedio2room = dfsubconjunto[dfsubconjunto['rooms'] == 2]['price'].mean()\n",
        "print(\"El precio medio con 2 habitaciones es:\", preciomedio2room)\n",
        "preciomedio3room = dfsubconjunto[dfsubconjunto['rooms'] == 3]['price'].mean()\n",
        "print(\"El precio medio con 3 habitaciones es:\", preciomedio3room)\n",
        "preciomedio4room = dfsubconjunto[dfsubconjunto['rooms'] == 4]['price'].mean()\n",
        "print(\"El precio medio con 4 habitaciones es:\", preciomedio4room)\n",
        "#En funcion de los metros cuadrados, haremos una apreciacion, cogeremos el piso con menos metros cuadrados,\n",
        "#el intermedio, y el inmueble con mas metros cuadrados, y entre ellos haremos una media.\n",
        "\n",
        "valor_minimoprecio = dfsubconjunto[dfsubconjunto['price'] != 0]['price'].min()\n",
        "m2minimos = dfsubconjunto[dfsubconjunto['price'] == valor_minimoprecio]['surface']\n",
        "Mediaporm2 = valor_minimoprecio / m2minimos\n",
        "print(\"El valor medio del metro cuadrado de la vivienda mas barata es:\", Mediaporm2)\n",
        "\n",
        "valor_medioprecio = dfsubconjunto['price'].mean()\n",
        "m2medios = dfsubconjunto[dfsubconjunto['surface']!=0]['surface'].mean()\n",
        "valorm2medio = valor_medioprecio / m2medios\n",
        "print(\"El valor medio del metro cuadrado de la vivienda gama media es:\", valorm2medio)\n",
        "\n",
        "valor_maximoprecio = dfsubconjunto['price'].max()\n",
        "m2maximos = dfsubconjunto[dfsubconjunto['surface']!=0]['surface'].max()\n",
        "valorm2maximo = valor_maximoprecio / m2maximos\n",
        "print(\"El valor medio del metro cuadrado de la vivienda gama alta es:\", valorm2maximo)\n",
        "\n",
        "varianza_por_wcs = dfsubconjunto.groupby('bathrooms')['price'].var()\n",
        "print(\"La varianza por wc's:\",varianza_por_wcs)\n",
        "\n",
        "varianza_por_rooms = dfsubconjunto.groupby('rooms')['price'].var()\n",
        "print(\"La varianza por habitaciones:\",varianza_por_rooms)\n",
        "\n",
        "varianza_por_m2 = dfsubconjunto.groupby('surface')['price'].var()\n",
        "print(\"La varianza por metros cuadradros:\",varianza_por_m2)\n",
        "\n"
      ]
    },
    {
      "cell_type": "markdown",
      "id": "7d6f40ce",
      "metadata": {},
      "source": [
        "No entiendo muy bien aun el concepto de varianza, imagino que es un gradiente incremental que se suma al precio unitario por poblacion."
      ]
    },
    {
      "attachments": {},
      "cell_type": "markdown",
      "id": "revolutionary-matrix",
      "metadata": {},
      "source": [
        "#### Ejercicio 17. ¿Cuál es la casa más cara de cada población? Debes usar el subset obtenido en la pregunta 14 (★★☆)\n",
        "\n",
        "Imprime tanto la dirección como el precio de la casa seleccionada de cada población. Puedes imprimir un DataFrame o una sola línea para cada población."
      ]
    },
    {
      "cell_type": "code",
      "execution_count": 34,
      "id": "fifteen-browse",
      "metadata": {},
      "outputs": [
        {
          "name": "stdout",
          "output_type": "stream",
          "text": [
            "La casa mas cara de Fuenlabrada es: 490000\n",
            "La casa mas cara de Leganes es: 650000\n",
            "La casa mas cara de Alcorcón es: 950000\n"
          ]
        }
      ],
      "source": [
        "import numpy as np\n",
        "import pandas as pd\n",
        "import matplotlib.pyplot as plt\n",
        "ds = pd.read_csv('assets/real_estate.csv', sep=';')\n",
        "df = pd.DataFrame(ds)\n",
        "Poblaciones = ['Fuenlabrada','Leganés','Getafe','Alcorcón']\n",
        "dfsubconjunto= df[df['level5'].isin(Poblaciones)]\n",
        "\n",
        "Casamascaradefueblabrada = dfsubconjunto[dfsubconjunto['level5'] == 'Fuenlabrada']['price'].max()\n",
        "print(\"La casa más cara de Fuenlabrada es:\", Casamascaradefueblabrada)\n",
        "\n",
        "Casamascaradeleganes = dfsubconjunto[dfsubconjunto['level5'] == 'Leganés']['price'].max()\n",
        "print(\"La casa más cara de Leganes es:\", Casamascaradeleganes)\n",
        "\n",
        "Casamascaradealcorcón = dfsubconjunto[dfsubconjunto['level5'] == 'Alcorcón']['price'].max()\n",
        "print(\"La casa más cara de Alcorcón es:\", Casamascaradealcorcón)"
      ]
    },
    {
      "attachments": {},
      "cell_type": "markdown",
      "id": "activated-knight",
      "metadata": {},
      "source": [
        "#### Ejercicio 18. Normaliza la variable de precios para cada población y traza los 4 histogramas en el mismo gráfico (debes usar el subconjunto obtenido en la pregunta 14) (★★★)\n",
        "\n",
        "Para el método de normalización, puedes usar el que consideres adecuado, no hay una única respuesta correcta para esta pregunta. Imprime el gráfico y escribe en la celda de Markdown un breve análisis sobre el gráfico.\n",
        "\n",
        "Pista: Puedes ayudarte revisando la demostración multihist de Matplotlib."
      ]
    },
    {
      "cell_type": "code",
      "execution_count": 56,
      "id": "civic-meditation",
      "metadata": {},
      "outputs": [
        {
          "name": "stdout",
          "output_type": "stream",
          "text": [
            "1         89000.0\n",
            "3         89000.0\n",
            "161      239500.0\n",
            "214      184000.0\n",
            "219      163670.0\n",
            "           ...   \n",
            "15275    138000.0\n",
            "15305    170000.0\n",
            "15322    112000.0\n",
            "15325    215000.0\n",
            "price         NaN\n",
            "Name: price, Length: 234, dtype: float64\n",
            "94       320000.0\n",
            "189       60000.0\n",
            "193      140000.0\n",
            "272      258000.0\n",
            "328      390004.0\n",
            "           ...   \n",
            "15024    259800.0\n",
            "15238     89900.0\n",
            "15263    390004.0\n",
            "15291    279000.0\n",
            "price         NaN\n",
            "Name: price, Length: 195, dtype: float64\n",
            "169      290000.0\n",
            "232      137400.0\n",
            "233      135500.0\n",
            "269       99900.0\n",
            "381      455000.0\n",
            "           ...   \n",
            "15002    284491.0\n",
            "15034    447000.0\n",
            "15087    356160.0\n",
            "15117    412500.0\n",
            "price         NaN\n",
            "Name: price, Length: 291, dtype: float64\n",
            "85       107000.0\n",
            "109      425000.0\n",
            "765      248000.0\n",
            "816      299000.0\n",
            "827      119900.0\n",
            "           ...   \n",
            "15144    330000.0\n",
            "15166    175000.0\n",
            "15191    318000.0\n",
            "15223    257000.0\n",
            "price         NaN\n",
            "Name: price, Length: 191, dtype: float64\n"
          ]
        },
        {
          "name": "stderr",
          "output_type": "stream",
          "text": [
            "/tmp/ipykernel_828/2126522175.py:18: SettingWithCopyWarning: \n",
            "A value is trying to be set on a copy of a slice from a DataFrame\n",
            "\n",
            "See the caveats in the documentation: https://pandas.pydata.org/pandas-docs/stable/user_guide/indexing.html#returning-a-view-versus-a-copy\n",
            "  dff.loc['price'] = (dff['price'] - dff['price'].min()) / (dff['price'].max() - dff['price'].min())\n",
            "/tmp/ipykernel_828/2126522175.py:20: SettingWithCopyWarning: \n",
            "A value is trying to be set on a copy of a slice from a DataFrame\n",
            "\n",
            "See the caveats in the documentation: https://pandas.pydata.org/pandas-docs/stable/user_guide/indexing.html#returning-a-view-versus-a-copy\n",
            "  dfl.loc['price'] = (dfl['price'] - dfl['price'].min()) / (dfl['price'].max() - dfl['price'].min())\n",
            "/tmp/ipykernel_828/2126522175.py:22: SettingWithCopyWarning: \n",
            "A value is trying to be set on a copy of a slice from a DataFrame\n",
            "\n",
            "See the caveats in the documentation: https://pandas.pydata.org/pandas-docs/stable/user_guide/indexing.html#returning-a-view-versus-a-copy\n",
            "  dfg.loc['price'] = (dfg['price'] - dfg['price'].min()) / (dfg['price'].max() - dfg['price'].min())\n",
            "/tmp/ipykernel_828/2126522175.py:24: SettingWithCopyWarning: \n",
            "A value is trying to be set on a copy of a slice from a DataFrame\n",
            "\n",
            "See the caveats in the documentation: https://pandas.pydata.org/pandas-docs/stable/user_guide/indexing.html#returning-a-view-versus-a-copy\n",
            "  dfa.loc['price'] = (dfa['price'] - dfa['price'].min()) / (dfa['price'].max() - dfa['price'].min())\n"
          ]
        }
      ],
      "source": [
        "import numpy as np\n",
        "import pandas as pd\n",
        "import matplotlib.pyplot as plt\n",
        "ds = pd.read_csv('assets/real_estate.csv', sep=';')\n",
        "df = pd.DataFrame(ds)\n",
        "Poblaciones = ['Fuenlabrada','Leganés','Getafe','Alcorcón']\n",
        "fn=['Fuenlabrada']\n",
        "lg=['Leganés']\n",
        "gt=['Getafe']\n",
        "alc=['Alcorcón']\n",
        "df1 = df[df['level5'].isin(Poblaciones)]\n",
        "dff = df1[df1['level5'].isin(fn)]\n",
        "dfl = df1[df1['level5'].isin(lg)]\n",
        "dfg = df1[df1['level5'].isin(gt)]\n",
        "dfa = df1[df1['level5'].isin(alc)]\n",
        "#print(dff,dfl,dfg,dfa) 'price'\n",
        "#precionormalizado fuenlabrada\n",
        "dff.loc['price'] = (dff['price'] - dff['price'].min()) / (dff['price'].max() - dff['price'].min())\n",
        "#print(dff['price'])\n",
        "dfl.loc['price'] = (dfl['price'] - dfl['price'].min()) / (dfl['price'].max() - dfl['price'].min())\n",
        "#print(dfl['price'])\n",
        "dfg.loc['price'] = (dfg['price'] - dfg['price'].min()) / (dfg['price'].max() - dfg['price'].min())\n",
        "#print(dfg['price'])\n",
        "dfa.loc['price'] = (dfa['price'] - dfa['price'].min()) / (dfa['price'].max() - dfa['price'].min())\n",
        "#print(dfa['price'])\n",
        "\n"
      ]
    },
    {
      "cell_type": "markdown",
      "id": "ec296e65",
      "metadata": {},
      "source": [
        "No soy capaz de hacer el historigrama con cada columna adyacente, usando valores uniformes de la columna de fechas en el eje x."
      ]
    },
    {
      "attachments": {},
      "cell_type": "markdown",
      "id": "precise-heavy",
      "metadata": {},
      "source": [
        "**TODO: Markdown**. Para escribir aquí, haz doble clic en esta celda, elimina este contenido y coloca lo que quieras escribir. Luego ejecuta la celda."
      ]
    },
    {
      "attachments": {},
      "cell_type": "markdown",
      "id": "patent-jonathan",
      "metadata": {},
      "source": [
        "#### Ejercicio 19. ¿Qué puedes decir sobre el precio por metro cuadrado (precio/m2) entre los municipios de 'Getafe' y 'Alcorcón'? Debes usar el subconjunto obtenido en la pregunta 14 (★★☆)\n",
        "\n",
        "Pista: Crea una nueva columna llamada `pps` (price per square en inglés) y luego analiza los valores"
      ]
    },
    {
      "cell_type": "code",
      "execution_count": 63,
      "id": "initial-liverpool",
      "metadata": {},
      "outputs": [
        {
          "name": "stdout",
          "output_type": "stream",
          "text": [
            "Precio aproximado en Getafe: 2513.3001438754823\n",
            "Precio aproximado en Alcorcón: 2385.717404355182\n"
          ]
        }
      ],
      "source": [
        "import numpy as np\n",
        "import pandas as pd\n",
        "import matplotlib.pyplot as plt\n",
        "ds = pd.read_csv('assets/real_estate.csv', sep=';')\n",
        "df = pd.DataFrame(ds)\n",
        "Poblaciones = ['Fuenlabrada','Leganés','Getafe','Alcorcón']\n",
        "fn=['Fuenlabrada']\n",
        "lg=['Leganés']\n",
        "gt=['Getafe']\n",
        "alc=['Alcorcón']\n",
        "df1 = df[df['level5'].isin(Poblaciones)]\n",
        "dff = df1[df1['level5'].isin(fn)]\n",
        "dfl = df1[df1['level5'].isin(lg)]\n",
        "dfg = df1[df1['level5'].isin(gt)]\n",
        "dfa = df1[df1['level5'].isin(alc)]\n",
        "dfgm2 = dfg['price'].sum() / dfg['surface'].sum()\n",
        "print(\"Precio aproximado en Getafe:\",dfgm2)\n",
        "dfam2 = dfa['price'].sum() / dfa['surface'].sum()\n",
        "print(\"Precio aproximado en Alcorcón:\", dfam2)\n",
        "\n"
      ]
    },
    {
      "cell_type": "markdown",
      "id": "691344cb",
      "metadata": {},
      "source": [
        "El precio del metro cuadrado, teniendo en cuenta que hemos sumado todos los precios de todas las viviendas de cada poblacion, por la suma de toda la superficie de metros cuadrados de todas las viviendas de cada poblacion, se asemeja, si que es verdad que hay condicionantes que hacen que el precio del metro cuadrado no sea uniforme. se puede comprobar si se hace el calculo por posicion de columna."
      ]
    },
    {
      "attachments": {},
      "cell_type": "markdown",
      "id": "enhanced-moscow",
      "metadata": {},
      "source": [
        "#### Ejercicio 20. Realiza el mismo gráfico para 4 poblaciones diferentes (columna level5) y colócalos en el mismo gráfico. Debes usar el subconjunto obtenido en la pregunta 14 (★★☆) \n",
        "Pista: Haz un diagrama de dispersión de cada población usando subgráficos (subplots)."
      ]
    },
    {
      "cell_type": "code",
      "execution_count": 21,
      "id": "accepting-airfare",
      "metadata": {},
      "outputs": [],
      "source": []
    },
    {
      "cell_type": "markdown",
      "id": "9e5b95cc",
      "metadata": {},
      "source": [
        "Queda pendiente. Me falta saber hacer bien los graficos."
      ]
    },
    {
      "attachments": {},
      "cell_type": "markdown",
      "id": "blocked-effects",
      "metadata": {},
      "source": [
        "#### Ejercicio 21. Realiza un trazado de las coordenadas (columnas latitud y longitud) del cinturón sur de Madrid por color de cada población (debes usar el subconjunto obtenido del Ejercicio 14) (★★★★)\n",
        "\n",
        "Ejecuta la siguiente celda y luego comienza a codear en la siguiente. Debes implementar un código simple que transforme las columnas de coordenadas en un diccionario de Python (agrega más información si es necesario) y agrégala al mapa."
      ]
    },
    {
      "cell_type": "code",
      "execution_count": 22,
      "id": "headed-privacy",
      "metadata": {},
      "outputs": [
        {
          "ename": "AttributeError",
          "evalue": "Stamen",
          "output_type": "error",
          "traceback": [
            "\u001b[0;31m---------------------------------------------------------------------------\u001b[0m",
            "\u001b[0;31mKeyError\u001b[0m                                  Traceback (most recent call last)",
            "File \u001b[0;32m~/.local/lib/python3.11/site-packages/xyzservices/lib.py:45\u001b[0m, in \u001b[0;36mBunch.__getattr__\u001b[0;34m(self, key)\u001b[0m\n\u001b[1;32m     44\u001b[0m \u001b[39mtry\u001b[39;00m:\n\u001b[0;32m---> 45\u001b[0m     \u001b[39mreturn\u001b[39;00m \u001b[39mself\u001b[39;49m\u001b[39m.\u001b[39;49m\u001b[39m__getitem__\u001b[39;49m(key)\n\u001b[1;32m     46\u001b[0m \u001b[39mexcept\u001b[39;00m \u001b[39mKeyError\u001b[39;00m \u001b[39mas\u001b[39;00m err:\n",
            "\u001b[0;31mKeyError\u001b[0m: 'Stamen'",
            "\nThe above exception was the direct cause of the following exception:\n",
            "\u001b[0;31mAttributeError\u001b[0m                            Traceback (most recent call last)",
            "\u001b[1;32m/workspaces/realestate-datacleanup-exercise/project.es.ipynb Celda 50\u001b[0m line \u001b[0;36m6\n\u001b[1;32m      <a href='vscode-notebook-cell://codespaces%2Bminiature-waffle-v6g6j6g57555cprrg/workspaces/realestate-datacleanup-exercise/project.es.ipynb#Y100sdnNjb2RlLXJlbW90ZQ%3D%3D?line=0'>1</a>\u001b[0m \u001b[39mfrom\u001b[39;00m \u001b[39mipyleaflet\u001b[39;00m \u001b[39mimport\u001b[39;00m Map, basemaps\n\u001b[1;32m      <a href='vscode-notebook-cell://codespaces%2Bminiature-waffle-v6g6j6g57555cprrg/workspaces/realestate-datacleanup-exercise/project.es.ipynb#Y100sdnNjb2RlLXJlbW90ZQ%3D%3D?line=2'>3</a>\u001b[0m \u001b[39m# Mapa centrado en (60 grados latitud y -2.2 grados longitud)\u001b[39;00m\n\u001b[1;32m      <a href='vscode-notebook-cell://codespaces%2Bminiature-waffle-v6g6j6g57555cprrg/workspaces/realestate-datacleanup-exercise/project.es.ipynb#Y100sdnNjb2RlLXJlbW90ZQ%3D%3D?line=3'>4</a>\u001b[0m \u001b[39m# Latitud, longitud\u001b[39;00m\n\u001b[1;32m      <a href='vscode-notebook-cell://codespaces%2Bminiature-waffle-v6g6j6g57555cprrg/workspaces/realestate-datacleanup-exercise/project.es.ipynb#Y100sdnNjb2RlLXJlbW90ZQ%3D%3D?line=4'>5</a>\u001b[0m \u001b[39mmap\u001b[39m \u001b[39m=\u001b[39m Map(center \u001b[39m=\u001b[39m (\u001b[39m60\u001b[39m, \u001b[39m-\u001b[39m\u001b[39m2.2\u001b[39m), zoom \u001b[39m=\u001b[39m \u001b[39m2\u001b[39m, min_zoom \u001b[39m=\u001b[39m \u001b[39m1\u001b[39m, max_zoom \u001b[39m=\u001b[39m \u001b[39m20\u001b[39m, \n\u001b[0;32m----> <a href='vscode-notebook-cell://codespaces%2Bminiature-waffle-v6g6j6g57555cprrg/workspaces/realestate-datacleanup-exercise/project.es.ipynb#Y100sdnNjb2RlLXJlbW90ZQ%3D%3D?line=5'>6</a>\u001b[0m     basemap\u001b[39m=\u001b[39mbasemaps\u001b[39m.\u001b[39;49mStamen\u001b[39m.\u001b[39mTerrain)\n\u001b[1;32m      <a href='vscode-notebook-cell://codespaces%2Bminiature-waffle-v6g6j6g57555cprrg/workspaces/realestate-datacleanup-exercise/project.es.ipynb#Y100sdnNjb2RlLXJlbW90ZQ%3D%3D?line=6'>7</a>\u001b[0m \u001b[39mmap\u001b[39m\n",
            "File \u001b[0;32m~/.local/lib/python3.11/site-packages/xyzservices/lib.py:47\u001b[0m, in \u001b[0;36mBunch.__getattr__\u001b[0;34m(self, key)\u001b[0m\n\u001b[1;32m     45\u001b[0m     \u001b[39mreturn\u001b[39;00m \u001b[39mself\u001b[39m\u001b[39m.\u001b[39m\u001b[39m__getitem__\u001b[39m(key)\n\u001b[1;32m     46\u001b[0m \u001b[39mexcept\u001b[39;00m \u001b[39mKeyError\u001b[39;00m \u001b[39mas\u001b[39;00m err:\n\u001b[0;32m---> 47\u001b[0m     \u001b[39mraise\u001b[39;00m \u001b[39mAttributeError\u001b[39;00m(key) \u001b[39mfrom\u001b[39;00m \u001b[39merr\u001b[39;00m\n",
            "\u001b[0;31mAttributeError\u001b[0m: Stamen"
          ]
        }
      ],
      "source": [
        "from ipyleaflet import Map, basemaps\n",
        "\n",
        "# Mapa centrado en (60 grados latitud y -2.2 grados longitud)\n",
        "# Latitud, longitud\n",
        "map = Map(center = (60, -2.2), zoom = 2, min_zoom = 1, max_zoom = 20, \n",
        "    basemap=basemaps.Stamen.Terrain)\n",
        "map"
      ]
    },
    {
      "cell_type": "code",
      "execution_count": null,
      "id": "present-mistress",
      "metadata": {},
      "outputs": [],
      "source": [
        "## Aquí: traza la coordenadas de los estados\n",
        "\n",
        "## PON TU CÓDIGO AQUÍ:\n"
      ]
    }
  ],
  "metadata": {
    "kernelspec": {
      "display_name": "Python 3",
      "language": "python",
      "name": "python3"
    },
    "language_info": {
      "codemirror_mode": {
        "name": "ipython",
        "version": 3
      },
      "file_extension": ".py",
      "mimetype": "text/x-python",
      "name": "python",
      "nbconvert_exporter": "python",
      "pygments_lexer": "ipython3",
      "version": "3.11.4"
    }
  },
  "nbformat": 4,
  "nbformat_minor": 5
}
